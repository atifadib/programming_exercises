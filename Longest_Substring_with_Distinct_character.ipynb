{
 "cells": [
  {
   "cell_type": "code",
   "execution_count": 35,
   "metadata": {
    "collapsed": true
   },
   "outputs": [],
   "source": [
    "def lengthOfLongestSubstring(s: str) -> int:\n",
    "    if len(s)==0:\n",
    "        return 0\n",
    "    if len(s)==1:\n",
    "        return 1\n",
    "    max_size = 0\n",
    "    counter = {}\n",
    "    i=0\n",
    "    reset = True\n",
    "    while i < len(s):\n",
    "        if s[i] not in counter.keys():\n",
    "            counter[s[i]] = i\n",
    "            i += 1\n",
    "        else:\n",
    "            i = counter[s[i]]+1\n",
    "            if len(counter) > max_size:\n",
    "                max_size = len(counter)\n",
    "            counter = {}\n",
    "    if len(counter) > max_size:\n",
    "        return len(counter)\n",
    "    return max_size"
   ]
  },
  {
   "cell_type": "code",
   "execution_count": 40,
   "metadata": {},
   "outputs": [
    {
     "data": {
      "text/plain": [
       "1"
      ]
     },
     "execution_count": 40,
     "metadata": {},
     "output_type": "execute_result"
    }
   ],
   "source": [
    "lengthOfLongestSubstring(' ')"
   ]
  },
  {
   "cell_type": "code",
   "execution_count": null,
   "metadata": {
    "collapsed": true
   },
   "outputs": [],
   "source": []
  }
 ],
 "metadata": {
  "kernelspec": {
   "display_name": "Python 3",
   "language": "python",
   "name": "python3"
  },
  "language_info": {
   "codemirror_mode": {
    "name": "ipython",
    "version": 3
   },
   "file_extension": ".py",
   "mimetype": "text/x-python",
   "name": "python",
   "nbconvert_exporter": "python",
   "pygments_lexer": "ipython3",
   "version": "3.6.7"
  }
 },
 "nbformat": 4,
 "nbformat_minor": 2
}

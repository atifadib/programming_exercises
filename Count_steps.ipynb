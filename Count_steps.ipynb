{
 "cells": [
  {
   "cell_type": "markdown",
   "metadata": {},
   "source": [
    "### You are given an M by N matrix consisting of booleans that represents a board. Each True boolean represents a wall. Each False boolean represents a tile you can walk on.\n",
    "\n",
    "### Given this matrix, a start coordinate, and an end coordinate, return the minimum number of steps required to reach the end coordinate from the start. If there is no possible path, then return null. You can move up, left, down, and right. You cannot move through walls. You cannot wrap around the edges of the board.\n",
    "\n",
    "### For example, given the following board:\n",
    "\n",
    "#### [[f, f, f, f],\n",
    "#### [t, t, f, t],\n",
    "#### [f, f, f, f],\n",
    "#### [f, f, f, f]]\n",
    "#### and start = (3, 0) (bottom left) and end = (0, 0) (top left), the minimum number of steps required to reach the end is 7, since we would need to go through (1, 2) because there is a wall everywhere else on the second row.\n",
    "\n"
   ]
  },
  {
   "cell_type": "code",
   "execution_count": 27,
   "metadata": {},
   "outputs": [],
   "source": [
    "import math\n",
    "\n",
    "def dist(c1,c2):\n",
    "    return math.sqrt((c1[0]-c2[0])**2 + (c1[1]-c2[1])**2)\n",
    "\n",
    "def count_helper(maze,curr,end):\n",
    "    if curr==end:\n",
    "        return 0\n",
    "    else:\n",
    "        x,y = curr[0],curr[1]\n",
    "        possible_steps = []\n",
    "        if 0 <= x+1 < len(maze):\n",
    "            if maze[x+1][y] == False:\n",
    "                possible_steps.append((x+1,y))\n",
    "                maze[x+1][y] = True\n",
    "        if 0 <= x-1 < len(maze):\n",
    "            if maze[x-1][y] == False:\n",
    "                possible_steps.append((x-1,y))\n",
    "                maze[x-1][y] = True\n",
    "        if 0 <= y-1 < len(maze[0]):\n",
    "            if maze[x][y-1] == False:\n",
    "                possible_steps.append((x,y-1))\n",
    "                maze[x][y-1] = True\n",
    "        if 0 <= y+1 < len(maze[0]):\n",
    "            if maze[x][y+1] == False:\n",
    "                possible_steps.append((x,y+1))\n",
    "                maze[x][y+1] = True\n",
    "        possible_steps = sorted(possible_steps,key=lambda x:dist(x,end))\n",
    "        if not possible_steps:\n",
    "            return \n",
    "        return 1 + count_helper(maze,possible_steps[0],end)\n",
    "\n",
    "def count(maze,start,end):\n",
    "    if start == end:\n",
    "        return 0\n",
    "    else:\n",
    "        try:\n",
    "            return count_helper(maze,start,end)\n",
    "        except TypeError:\n",
    "            return -1"
   ]
  },
  {
   "cell_type": "code",
   "execution_count": 29,
   "metadata": {},
   "outputs": [
    {
     "data": {
      "text/plain": [
       "5"
      ]
     },
     "execution_count": 29,
     "metadata": {},
     "output_type": "execute_result"
    }
   ],
   "source": [
    "f=False\n",
    "t=True\n",
    "maze = [[f, f, f, f],\n",
    "[t, f, t, t],\n",
    "[f, f, f, f],\n",
    "[f, f, f, f]]\n",
    "count(maze,(3, 0),(0, 0))"
   ]
  },
  {
   "cell_type": "code",
   "execution_count": null,
   "metadata": {
    "collapsed": true
   },
   "outputs": [],
   "source": []
  }
 ],
 "metadata": {
  "kernelspec": {
   "display_name": "Python 3",
   "language": "python",
   "name": "python3"
  },
  "language_info": {
   "codemirror_mode": {
    "name": "ipython",
    "version": 3
   },
   "file_extension": ".py",
   "mimetype": "text/x-python",
   "name": "python",
   "nbconvert_exporter": "python",
   "pygments_lexer": "ipython3",
   "version": "3.6.7"
  }
 },
 "nbformat": 4,
 "nbformat_minor": 2
}

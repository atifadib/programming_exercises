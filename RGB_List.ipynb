{
 "cells": [
  {
   "cell_type": "code",
   "execution_count": 1,
   "metadata": {
    "collapsed": true
   },
   "outputs": [],
   "source": [
    "input_list = ['B','R','G','R']*4"
   ]
  },
  {
   "cell_type": "code",
   "execution_count": 12,
   "metadata": {
    "collapsed": true
   },
   "outputs": [],
   "source": [
    "def convert(input_list):\n",
    "    r,g,b = 0,0,0\n",
    "    for _ in input_list:\n",
    "        if _ =='R':\n",
    "            r+=1\n",
    "        elif _ == 'G':\n",
    "            g+=1\n",
    "        elif _ =='B':\n",
    "            b+=1\n",
    "        else:\n",
    "            return \"Malformed Input\"\n",
    "    index = 0\n",
    "    while r > 0:\n",
    "        input_list[index]='R'\n",
    "        index+=1\n",
    "        r-=1\n",
    "    while g > 0:\n",
    "        input_list[index]='G'\n",
    "        index+=1\n",
    "        g-=1\n",
    "    while b > 0:\n",
    "        input_list[index]='B'\n",
    "        index+=1\n",
    "        b-=1\n",
    "    return input_list\n",
    "\n",
    "def partition(arr):\n",
    "    low, mid, high = 0, 0, len(arr) - 1\n",
    "    while mid <= high:\n",
    "        if arr[mid] == 'R':\n",
    "            arr[low], arr[mid] = arr[mid], arr[low]\n",
    "            low += 1\n",
    "            mid += 1\n",
    "        elif arr[mid] == 'G':\n",
    "            mid += 1\n",
    "        else:\n",
    "            arr[mid], arr[high] = arr[high], arr[mid]\n",
    "            high -= 1\n",
    "    return arr"
   ]
  },
  {
   "cell_type": "code",
   "execution_count": 13,
   "metadata": {},
   "outputs": [],
   "source": [
    "input_list = ['B','R','G','R']*4\n",
    "out1 = convert(input_list)\n",
    "input_list = ['B','R','G','R']*4\n",
    "out2 = partition(input_list)\n",
    "assert out1 == out2"
   ]
  },
  {
   "cell_type": "code",
   "execution_count": 16,
   "metadata": {},
   "outputs": [
    {
     "name": "stdout",
     "output_type": "stream",
     "text": [
      "2.81 µs ± 80.4 ns per loop (mean ± std. dev. of 7 runs, 100000 loops each)\n"
     ]
    }
   ],
   "source": [
    "input_list = ['B','R','G','R']*4\n",
    "%timeit partition(input_list)"
   ]
  },
  {
   "cell_type": "code",
   "execution_count": 17,
   "metadata": {},
   "outputs": [
    {
     "name": "stdout",
     "output_type": "stream",
     "text": [
      "2.7 µs ± 98.1 ns per loop (mean ± std. dev. of 7 runs, 100000 loops each)\n"
     ]
    }
   ],
   "source": [
    "input_list = ['B','R','G','R']*4\n",
    "%timeit convert(input_list)"
   ]
  },
  {
   "cell_type": "code",
   "execution_count": null,
   "metadata": {
    "collapsed": true
   },
   "outputs": [],
   "source": []
  }
 ],
 "metadata": {
  "kernelspec": {
   "display_name": "Python 3",
   "language": "python",
   "name": "python3"
  },
  "language_info": {
   "codemirror_mode": {
    "name": "ipython",
    "version": 3
   },
   "file_extension": ".py",
   "mimetype": "text/x-python",
   "name": "python",
   "nbconvert_exporter": "python",
   "pygments_lexer": "ipython3",
   "version": "3.6.7"
  }
 },
 "nbformat": 4,
 "nbformat_minor": 2
}

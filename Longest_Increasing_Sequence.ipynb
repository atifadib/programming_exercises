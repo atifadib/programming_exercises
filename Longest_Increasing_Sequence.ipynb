{
 "cells": [
  {
   "cell_type": "markdown",
   "metadata": {},
   "source": [
    "# Problem Statement\n",
    "#### Given an array of numbers, find the length of the longest increasing subsequence in the array.\n",
    "#### The subsequence does not necessarily have to be contiguous.\n",
    "\n",
    "#### For example, given the array [0, 8, 4, 12, 2, 10, 6, 14, 1, 9, 5, 13, 3, 11, 7, 15], \n",
    "#### the longest increasing subsequence has length 6: it is 0, 2, 6, 9, 11, 15."
   ]
  },
  {
   "cell_type": "code",
   "execution_count": 25,
   "metadata": {},
   "outputs": [
    {
     "name": "stdout",
     "output_type": "stream",
     "text": [
      "6\n"
     ]
    }
   ],
   "source": [
    "# Using brute-force to Solve it. Without any memoization.\n",
    "\n",
    "def max_increasing_seq(input_arr):\n",
    "    if input_arr==[]:\n",
    "        # Empty Array can zero Subsequence length\n",
    "        return 0\n",
    "    if len(input_arr)==1:\n",
    "        # Array with one element has subsequence of increase values as 1\n",
    "        return 1\n",
    "    max_seq_len = 0\n",
    "    for index in range(len(input_arr)):\n",
    "        # Make Sub-Array till index, and call the function on it.\n",
    "        curr_max = max_increasing_seq(input_arr[:index])\n",
    "        if input_arr[-1] > input_arr[index-1] and curr_max+1 > max_seq_len:\n",
    "            max_seq_len = curr_max + 1\n",
    "    return max_seq_len\n",
    "        \n",
    "print(max_increasing_seq([0, 8, 4, 12, 2, 10, 6, 14, 1, 9, 5, 13, 3, 11, 7, 15]))\n",
    "#print(max_increasing_seq([0,1,2]))\n",
    "\n",
    "#time:\n",
    "#18.9 ms ± 1.14 ms per loop (mean ± std. dev. of 7 runs, 10 loops each)"
   ]
  },
  {
   "cell_type": "code",
   "execution_count": 29,
   "metadata": {},
   "outputs": [
    {
     "name": "stdout",
     "output_type": "stream",
     "text": [
      "6\n"
     ]
    }
   ],
   "source": [
    "# Using brute-force to Solve it. With memoization.\n",
    "mem = dict()\n",
    "def max_increasing_seq(input_arr,mem):\n",
    "    input_arr = tuple(input_arr)\n",
    "    if input_arr==[]:\n",
    "        # Empty Array can zero Subsequence length\n",
    "        return 0\n",
    "    if len(input_arr)==1:\n",
    "        # Array with one element has subsequence of increase values as 1\n",
    "        return 1\n",
    "    max_seq_len = 0\n",
    "    for index in range(len(input_arr)):\n",
    "        # Make Sub-Array till index, and call the function on it.\n",
    "        if input_arr[:index] in mem.keys():\n",
    "            curr_max = mem[input_arr[:index]]\n",
    "        else:\n",
    "            curr_max = max_increasing_seq(input_arr[:index],mem)\n",
    "            mem[input_arr[:index]] = curr_max\n",
    "        if input_arr[-1] > input_arr[index-1] and curr_max+1 > max_seq_len:\n",
    "            max_seq_len = curr_max + 1\n",
    "    return max_seq_len\n",
    "        \n",
    "print(max_increasing_seq([0, 8, 4, 12, 2, 10, 6, 14, 1, 9, 5, 13, 3, 11, 7, 15],mem))\n",
    "#print(max_increasing_seq([0,1,2]))\n",
    "\n",
    "#time:\n",
    "#8.18 µs ± 253 ns per loop (mean ± std. dev. of 7 runs, 100000 loops each)"
   ]
  },
  {
   "cell_type": "code",
   "execution_count": 51,
   "metadata": {},
   "outputs": [
    {
     "name": "stdout",
     "output_type": "stream",
     "text": [
      "6\n"
     ]
    }
   ],
   "source": [
    "#another Solution with list caching.\n",
    "\n",
    "def max_increasing_seq(arr):\n",
    "    longest_seq = [_ for _ in range(len(arr))]\n",
    "    if arr==[]:\n",
    "        return 0\n",
    "    cache = [1] * len(arr)\n",
    "    for i in range(1, len(arr)):\n",
    "        for j in range(i):\n",
    "            if arr[i] > arr[j]:\n",
    "                if cache[j] + 1 > cache[i]:\n",
    "                    longest_seq[i]=j\n",
    "                cache[i] = max(cache[i], cache[j] + 1)\n",
    "    return max(cache)\n",
    "\n",
    "print(max_increasing_seq([0, 8, 9, 12, 2, 10, 6, 14, 1, 9, 5, 13, 3, 11, 7, 15]))\n",
    "\n",
    "#time:\n",
    "#28.4 µs ± 765 ns per loop (mean ± std. dev. of 7 runs, 10000 loops each)\n",
    "#0, 2, 6, 9, 11, 15"
   ]
  },
  {
   "cell_type": "code",
   "execution_count": 55,
   "metadata": {},
   "outputs": [
    {
     "name": "stdout",
     "output_type": "stream",
     "text": [
      "(6, [15, 14, 12, 9, 8, 0])\n"
     ]
    }
   ],
   "source": [
    "#another Solution with list caching. which return both sequence and its length\n",
    "\n",
    "def max_increasing_seq(arr):\n",
    "    longest_seq = [_ for _ in range(len(arr))]\n",
    "    if arr==[]:\n",
    "        return 0\n",
    "    cache = [1] * len(arr)\n",
    "    for i in range(1, len(arr)):\n",
    "        for j in range(i):\n",
    "            if arr[i] > arr[j]:\n",
    "                if cache[j] + 1 > cache[i]:\n",
    "                    longest_seq[i]=j\n",
    "                cache[i] = max(cache[i], cache[j] + 1)\n",
    "    maximum = 0\n",
    "    idx = 0\n",
    "\n",
    "    # Pick maximum of all cache values\n",
    "    for i in range(len(arr)):\n",
    "        if maximum < cache[i]:\n",
    "            maximum = cache[i]\n",
    "            idx = i\n",
    "\n",
    "    seq = [arr[idx]]\n",
    "    while idx != longest_seq[idx]:\n",
    "        idx = longest_seq[idx]\n",
    "        seq.append(arr[idx])\n",
    "    return max(cache),seq\n",
    "\n",
    "print(max_increasing_seq([0, 8, 9, 12, 2, 10, 6, 14, 1, 9, 5, 13, 3, 11, 7, 15]))\n",
    "\n",
    "#time:\n",
    "#28.4 µs ± 765 ns per loop (mean ± std. dev. of 7 runs, 10000 loops each)\n",
    "#0, 2, 6, 9, 11, 15"
   ]
  },
  {
   "cell_type": "code",
   "execution_count": null,
   "metadata": {
    "collapsed": true
   },
   "outputs": [],
   "source": []
  }
 ],
 "metadata": {
  "kernelspec": {
   "display_name": "Python 3",
   "language": "python",
   "name": "python3"
  },
  "language_info": {
   "codemirror_mode": {
    "name": "ipython",
    "version": 3
   },
   "file_extension": ".py",
   "mimetype": "text/x-python",
   "name": "python",
   "nbconvert_exporter": "python",
   "pygments_lexer": "ipython3",
   "version": "3.6.7"
  }
 },
 "nbformat": 4,
 "nbformat_minor": 2
}

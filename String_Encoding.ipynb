{
 "cells": [
  {
   "cell_type": "markdown",
   "metadata": {},
   "source": [
    "#### Run-length encoding is a fast and simple method of encoding strings. \n",
    "#### The basic idea is to represent repeated successive\n",
    "#### characters as a single count and character. \n",
    "\n",
    "#### For example, the string \"AAAABBBCCDAA\" would be encoded as \"4A3B2C1D2A\".\n",
    "\n",
    "#### Implement run-length encoding and decoding. \n",
    "#### You can assume the string to be encoded have no digits \n",
    "#### and consists solely of alphabetic characters. \n",
    "#### You can assume the string to be decoded is valid."
   ]
  },
  {
   "cell_type": "code",
   "execution_count": 6,
   "metadata": {
    "collapsed": true
   },
   "outputs": [],
   "source": [
    "def encode(string):\n",
    "    if not string:\n",
    "        return \"\"\n",
    "    encoded_string = \"\"\n",
    "    start = 0\n",
    "    char = string[start]\n",
    "    count = 1\n",
    "    start+=1\n",
    "    while start < len(string):\n",
    "        next_char = string[start]\n",
    "        if next_char == char:\n",
    "            count+=1\n",
    "            start+=1\n",
    "        else:\n",
    "            encoded_string += str(count)+str(char)\n",
    "            char = next_char\n",
    "            count = 1\n",
    "            start+=1\n",
    "    encoded_string += str(count)+str(char)\n",
    "    return encoded_string"
   ]
  },
  {
   "cell_type": "code",
   "execution_count": 11,
   "metadata": {},
   "outputs": [
    {
     "data": {
      "text/plain": [
       "'1z3a'"
      ]
     },
     "execution_count": 11,
     "metadata": {},
     "output_type": "execute_result"
    }
   ],
   "source": [
    "encode(\"zaaa\")"
   ]
  },
  {
   "cell_type": "code",
   "execution_count": 12,
   "metadata": {
    "collapsed": true
   },
   "outputs": [],
   "source": [
    "def decode(string):\n",
    "    if not string:\n",
    "        return \"\"\n",
    "    decoded_string = \"\"\n",
    "    for seq in range(0,len(string),2):\n",
    "        substr = string[seq:seq+2]\n",
    "        for _ in range(int(substr[0])):\n",
    "            decoded_string+=substr[1]\n",
    "    return decoded_string"
   ]
  },
  {
   "cell_type": "code",
   "execution_count": 13,
   "metadata": {},
   "outputs": [
    {
     "data": {
      "text/plain": [
       "'zaaa'"
      ]
     },
     "execution_count": 13,
     "metadata": {},
     "output_type": "execute_result"
    }
   ],
   "source": [
    "decode('1z3a')"
   ]
  },
  {
   "cell_type": "code",
   "execution_count": null,
   "metadata": {
    "collapsed": true
   },
   "outputs": [],
   "source": []
  }
 ],
 "metadata": {
  "kernelspec": {
   "display_name": "Python 3",
   "language": "python",
   "name": "python3"
  },
  "language_info": {
   "codemirror_mode": {
    "name": "ipython",
    "version": 3
   },
   "file_extension": ".py",
   "mimetype": "text/x-python",
   "name": "python",
   "nbconvert_exporter": "python",
   "pygments_lexer": "ipython3",
   "version": "3.6.7"
  }
 },
 "nbformat": 4,
 "nbformat_minor": 2
}

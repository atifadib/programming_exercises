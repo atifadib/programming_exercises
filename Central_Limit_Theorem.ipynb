{
 "cells": [
  {
   "cell_type": "code",
   "execution_count": 27,
   "metadata": {},
   "outputs": [
    {
     "name": "stdout",
     "output_type": "stream",
     "text": [
      "Writing clt.py\n"
     ]
    }
   ],
   "source": [
    "%%writefile clt.py\n",
    "\n",
    "outcomes = [1,2,3,4,5,6]\n",
    "\n",
    "import numpy as np\n",
    "\n",
    "def pick():\n",
    "    return np.random.choice(range(1,7),p=[0.2,0.2,0.1,0.1,0.2,0.2])\n",
    "\n",
    "distribution = [pick() for _ in range(10000)]\n",
    "\n",
    "import matplotlib.pyplot as plt\n",
    "\n",
    "c = dict()\n",
    "for _ in distribution:\n",
    "    try:\n",
    "        c[_]+=1\n",
    "    except KeyError:\n",
    "        c[_]=1\n",
    "\n",
    "c = sorted([(k,v) for k,v in c.items()],key=lambda x:x[0])\n",
    "print(c)\n",
    "\n",
    "plt.plot([i[0] for i in c],[i[1] for i in c])\n",
    "plt.fill_between([i[0] for i in c],[i[1] for i in c])\n",
    "plt.xlabel(\"Outcome\")\n",
    "plt.ylabel(\"Freq\")\n",
    "plt.show()\n",
    "\n",
    "from random import randint\n",
    "\n",
    "def random_sample(size=4):\n",
    "    sample = []\n",
    "    for _ in range(size):\n",
    "        sample.append(randint(1,6))\n",
    "    return sample\n",
    "\n",
    "import matplotlib.animation as animation\n",
    "import matplotlib.pyplot as plt\n",
    "from tqdm import tqdm\n",
    "samples = []\n",
    "size = 4\n",
    "plots = []\n",
    "fig = plt.gcf()\n",
    "fig.show()\n",
    "fig.canvas.draw()\n",
    "\n",
    "dist = {}\n",
    "plt.show()\n",
    "for _ in range(10000):\n",
    "    sample = random_sample(size)\n",
    "    new_mean = sum(sample)/size\n",
    "    if new_mean in dist.keys():\n",
    "        dist[new_mean]+=1\n",
    "    else:\n",
    "        dist[new_mean]=1\n",
    "    pp = sorted([(k,v) for k,v in dist.items()],key=lambda x:x[0])\n",
    "    plt.plot([i[0] for i in pp],[i[1] for i in pp])\n",
    "    fig.canvas.draw()"
   ]
  },
  {
   "cell_type": "code",
   "execution_count": null,
   "metadata": {
    "collapsed": true
   },
   "outputs": [],
   "source": []
  }
 ],
 "metadata": {
  "kernelspec": {
   "display_name": "Python 3",
   "language": "python",
   "name": "python3"
  },
  "language_info": {
   "codemirror_mode": {
    "name": "ipython",
    "version": 3
   },
   "file_extension": ".py",
   "mimetype": "text/x-python",
   "name": "python",
   "nbconvert_exporter": "python",
   "pygments_lexer": "ipython3",
   "version": "3.6.7"
  }
 },
 "nbformat": 4,
 "nbformat_minor": 2
}

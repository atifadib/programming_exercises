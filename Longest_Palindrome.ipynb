{
 "cells": [
  {
   "cell_type": "markdown",
   "metadata": {},
   "source": [
    "# Find Longest Palindrome in the given String"
   ]
  },
  {
   "cell_type": "code",
   "execution_count": 25,
   "metadata": {
    "collapsed": true
   },
   "outputs": [],
   "source": [
    "def longestPalindrome(s: str) -> str:\n",
    "    if not s:\n",
    "        return \"\"\n",
    "    start, end = 0, 0\n",
    "    for index in range(0,len(s)):\n",
    "        l1 = expand(s,index,index) # If String is Odd Numbered\n",
    "        l2 = expand(s,index,index+1) # If String is Even Numbered\n",
    "        l=max(l1,l2)\n",
    "        if l > end - start:\n",
    "            start = index - (l-1)//2\n",
    "            end = index + l//2\n",
    "        print(start,end,index)\n",
    "    return s[start:end+1]\n",
    "\n",
    "def expand(s,index,index1):\n",
    "    start,end= index,index1\n",
    "    while start >= 0 and end < len(s) and s[start]==s[end]:\n",
    "        start-=1\n",
    "        end+=1\n",
    "    return end-start-1"
   ]
  },
  {
   "cell_type": "code",
   "execution_count": 26,
   "metadata": {},
   "outputs": [
    {
     "name": "stdout",
     "output_type": "stream",
     "text": [
      "0 0 0\n",
      "1 1 1\n",
      "0 4 2\n",
      "0 4 3\n",
      "0 4 4\n"
     ]
    },
    {
     "data": {
      "text/plain": [
       "'abcba'"
      ]
     },
     "execution_count": 26,
     "metadata": {},
     "output_type": "execute_result"
    }
   ],
   "source": [
    "longestPalindrome(\"abcba\")"
   ]
  },
  {
   "cell_type": "code",
   "execution_count": null,
   "metadata": {
    "collapsed": true
   },
   "outputs": [],
   "source": []
  }
 ],
 "metadata": {
  "kernelspec": {
   "display_name": "Python 3",
   "language": "python",
   "name": "python3"
  },
  "language_info": {
   "codemirror_mode": {
    "name": "ipython",
    "version": 3
   },
   "file_extension": ".py",
   "mimetype": "text/x-python",
   "name": "python",
   "nbconvert_exporter": "python",
   "pygments_lexer": "ipython3",
   "version": "3.6.7"
  }
 },
 "nbformat": 4,
 "nbformat_minor": 2
}

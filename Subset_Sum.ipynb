{
 "cells": [
  {
   "cell_type": "markdown",
   "metadata": {},
   "source": [
    "# Subset Sum Problem\n",
    "#### Given a set of numbers find the subsets which add upto a given number.\n",
    "#### Set = {2,3,7,5,10} , total = 15 ; Output = ({2,3,10},{5,10})"
   ]
  },
  {
   "cell_type": "code",
   "execution_count": 126,
   "metadata": {},
   "outputs": [
    {
     "data": {
      "text/plain": [
       "3"
      ]
     },
     "execution_count": 126,
     "metadata": {},
     "output_type": "execute_result"
    }
   ],
   "source": [
    "input_set = [7,3,2,5,10]\n",
    "sum_value = 15\n",
    "\n",
    "def get_pairs(input_set,sum_value):\n",
    "    return get_pairs_recurr(input_set,sum_value)\n",
    "\n",
    "def get_pairs_recurr(input_set,sum_value):\n",
    "    if sum_value == 0 and len(input_set) == 0:\n",
    "        return 1\n",
    "    elif len(input_set) == 0 and sum_value>0:\n",
    "        return 0\n",
    "    elif sum_value < 0:\n",
    "        return 0\n",
    "    else:\n",
    "        return get_pairs_recurr(input_set[1:],sum_value) + \\\n",
    "                get_pairs_recurr(input_set[1:],sum_value-input_set[0])\n",
    "        \n",
    "get_pairs(input_set,sum_value)"
   ]
  },
  {
   "cell_type": "code",
   "execution_count": 128,
   "metadata": {},
   "outputs": [],
   "source": [
    "import random\n",
    "values = [7,3,10,15]\n",
    "output = 1\n",
    "sum_value = 17\n",
    "for _ in range(1000):\n",
    "    random.shuffle(values)\n",
    "    try:\n",
    "        assert output == get_pairs(values,sum_value)\n",
    "    except AssertionError:\n",
    "        print(values)"
   ]
  },
  {
   "cell_type": "code",
   "execution_count": null,
   "metadata": {
    "collapsed": true
   },
   "outputs": [],
   "source": []
  }
 ],
 "metadata": {
  "kernelspec": {
   "display_name": "Python 3",
   "language": "python",
   "name": "python3"
  },
  "language_info": {
   "codemirror_mode": {
    "name": "ipython",
    "version": 3
   },
   "file_extension": ".py",
   "mimetype": "text/x-python",
   "name": "python",
   "nbconvert_exporter": "python",
   "pygments_lexer": "ipython3",
   "version": "3.6.7"
  }
 },
 "nbformat": 4,
 "nbformat_minor": 2
}

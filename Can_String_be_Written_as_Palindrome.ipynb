{
 "cells": [
  {
   "cell_type": "markdown",
   "metadata": {},
   "source": [
    "### Can the given string be re-written as a palindrome"
   ]
  },
  {
   "cell_type": "code",
   "execution_count": 57,
   "metadata": {},
   "outputs": [],
   "source": [
    "def is_palindrome(string):\n",
    "    check = 0\n",
    "    a = ord('a')\n",
    "    for char in string:\n",
    "        val = ord(char)-a\n",
    "        if 0 <= val <= 26:\n",
    "            mask = 1 << val\n",
    "            print(bin(mask),bin(check))\n",
    "            if check & mask == 0:\n",
    "                check |= mask\n",
    "            else:\n",
    "                check &= ~mask\n",
    "    print(check,check-1)\n",
    "    print(bin(check),bin(check-1))\n",
    "    if check & (check - 1) == 0:\n",
    "        return True\n",
    "    else:\n",
    "        return False"
   ]
  },
  {
   "cell_type": "code",
   "execution_count": 59,
   "metadata": {},
   "outputs": [
    {
     "name": "stdout",
     "output_type": "stream",
     "text": [
      "0b1 0b0\n",
      "0b10000000000000000000 0b1\n",
      "0b100000000 0b10000000000000000001\n",
      "0b1 0b10000000000100000001\n",
      "0b10000000000000000000 0b10000000000100000000\n",
      "0b100000 0b100000000\n",
      "0b100000 0b100100000\n",
      "256 255\n",
      "0b100000000 0b11111111\n"
     ]
    },
    {
     "data": {
      "text/plain": [
       "True"
      ]
     },
     "execution_count": 59,
     "metadata": {},
     "output_type": "execute_result"
    }
   ],
   "source": [
    "is_palindrome('atiatff')"
   ]
  },
  {
   "cell_type": "code",
   "execution_count": null,
   "metadata": {
    "collapsed": true
   },
   "outputs": [],
   "source": []
  }
 ],
 "metadata": {
  "kernelspec": {
   "display_name": "Python 3",
   "language": "python",
   "name": "python3"
  },
  "language_info": {
   "codemirror_mode": {
    "name": "ipython",
    "version": 3
   },
   "file_extension": ".py",
   "mimetype": "text/x-python",
   "name": "python",
   "nbconvert_exporter": "python",
   "pygments_lexer": "ipython3",
   "version": "3.6.7"
  }
 },
 "nbformat": 4,
 "nbformat_minor": 2
}

{
 "cells": [
  {
   "cell_type": "markdown",
   "metadata": {},
   "source": [
    "### N-Staircase Problem\n",
    "#### There exists a staircase with N steps, and you can climb up either 1 or 2 steps at a time. Given N, write a function that returns the number of unique ways you can climb the staircase. The order of the steps matters.\n",
    "\n",
    "#### For example, if N is 4, then there are 5 unique ways:\n",
    "\n",
    "#### 1, 1, 1, 1\n",
    "#### 2, 1, 1\n",
    "#### 1, 2, 1\n",
    "#### 1, 1, 2\n",
    "#### 2, 2"
   ]
  },
  {
   "cell_type": "code",
   "execution_count": 43,
   "metadata": {
    "collapsed": true
   },
   "outputs": [],
   "source": [
    "from functools import lru_cache\n",
    "global counter\n",
    "counter = 0\n",
    "\n",
    "def count_moves(N):\n",
    "    if N==0 or N==1:\n",
    "        return 1\n",
    "    elif N<0:\n",
    "        return 0\n",
    "    else:\n",
    "        return count_moves(N-1) + count_moves(N-2)"
   ]
  },
  {
   "cell_type": "code",
   "execution_count": 45,
   "metadata": {},
   "outputs": [
    {
     "data": {
      "text/plain": [
       "8"
      ]
     },
     "execution_count": 45,
     "metadata": {},
     "output_type": "execute_result"
    }
   ],
   "source": [
    "count_moves(5)"
   ]
  },
  {
   "cell_type": "code",
   "execution_count": 53,
   "metadata": {},
   "outputs": [],
   "source": [
    "@lru_cache(maxsize=1024)\n",
    "def count_moves_K(N,K):\n",
    "    if N==0:\n",
    "        return 1\n",
    "    elif N<0:\n",
    "        return 0\n",
    "    else:\n",
    "        out = 0\n",
    "        for k in K:\n",
    "            out += count_moves_K(N-k,K)\n",
    "        return out"
   ]
  },
  {
   "cell_type": "code",
   "execution_count": 54,
   "metadata": {},
   "outputs": [
    {
     "data": {
      "text/plain": [
       "1"
      ]
     },
     "execution_count": 54,
     "metadata": {},
     "output_type": "execute_result"
    }
   ],
   "source": [
    "count_moves_K(3,(2,3))"
   ]
  },
  {
   "cell_type": "code",
   "execution_count": 51,
   "metadata": {
    "collapsed": true
   },
   "outputs": [],
   "source": [
    "# LRU Cache Requires all your parameter to be hashable. :("
   ]
  },
  {
   "cell_type": "code",
   "execution_count": 71,
   "metadata": {
    "collapsed": true
   },
   "outputs": [],
   "source": [
    "# Without LRU Cache using DP\n",
    "def count_moves_DP(N):\n",
    "    if N==1 or N==0:\n",
    "        return 1\n",
    "    cache = [0]*(N+1)\n",
    "    cache[0],cache[1]=1,1\n",
    "    for i in range(2,N+1):\n",
    "        cache[i]=cache[i-1]+cache[i-2]\n",
    "    return cache[N]"
   ]
  },
  {
   "cell_type": "code",
   "execution_count": 72,
   "metadata": {},
   "outputs": [
    {
     "data": {
      "text/plain": [
       "3"
      ]
     },
     "execution_count": 72,
     "metadata": {},
     "output_type": "execute_result"
    }
   ],
   "source": [
    "count_moves_DP(3)"
   ]
  },
  {
   "cell_type": "code",
   "execution_count": 82,
   "metadata": {
    "collapsed": true
   },
   "outputs": [],
   "source": [
    "def count_moves_K_DP(N,K):\n",
    "    if N==0:\n",
    "        return 1\n",
    "    cache = [0]*(N+1)\n",
    "    cache[0]=1\n",
    "    for i in range(1,N+1):\n",
    "        total = 0\n",
    "        for s in K:\n",
    "            if i-s>=0:\n",
    "                total+=cache[i-s]\n",
    "        cache[i]=total\n",
    "    return cache[N]"
   ]
  },
  {
   "cell_type": "code",
   "execution_count": 83,
   "metadata": {},
   "outputs": [
    {
     "data": {
      "text/plain": [
       "4"
      ]
     },
     "execution_count": 83,
     "metadata": {},
     "output_type": "execute_result"
    }
   ],
   "source": [
    "count_moves_K_DP(3,(1,2,3))"
   ]
  },
  {
   "cell_type": "code",
   "execution_count": 84,
   "metadata": {},
   "outputs": [
    {
     "name": "stdout",
     "output_type": "stream",
     "text": [
      "1.4 µs ± 26.9 ns per loop (mean ± std. dev. of 7 runs, 1000000 loops each)\n"
     ]
    }
   ],
   "source": [
    "%timeit count_moves_K_DP(3,(1,2,3))"
   ]
  },
  {
   "cell_type": "code",
   "execution_count": 85,
   "metadata": {},
   "outputs": [
    {
     "name": "stdout",
     "output_type": "stream",
     "text": [
      "94.8 ns ± 1.75 ns per loop (mean ± std. dev. of 7 runs, 10000000 loops each)\n"
     ]
    }
   ],
   "source": [
    "%timeit count_moves_K(3,(1,2,3))"
   ]
  },
  {
   "cell_type": "code",
   "execution_count": null,
   "metadata": {
    "collapsed": true
   },
   "outputs": [],
   "source": []
  }
 ],
 "metadata": {
  "kernelspec": {
   "display_name": "Python 3",
   "language": "python",
   "name": "python3"
  },
  "language_info": {
   "codemirror_mode": {
    "name": "ipython",
    "version": 3
   },
   "file_extension": ".py",
   "mimetype": "text/x-python",
   "name": "python",
   "nbconvert_exporter": "python",
   "pygments_lexer": "ipython3",
   "version": "3.6.7"
  }
 },
 "nbformat": 4,
 "nbformat_minor": 2
}

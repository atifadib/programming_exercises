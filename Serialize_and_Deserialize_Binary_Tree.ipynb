{
 "cells": [
  {
   "cell_type": "markdown",
   "metadata": {},
   "source": [
    "# Serializing & Deserializing a Binary Tree\n",
    "### Given the root to a binary tree, implement serialize(root), which serializes the tree ### into a string, and deserialize(s), which deserializes the string back into the tree."
   ]
  },
  {
   "cell_type": "code",
   "execution_count": 10,
   "metadata": {
    "collapsed": true
   },
   "outputs": [],
   "source": [
    "# Tree class\n",
    "class Node:\n",
    "    def __init__(self, val, left=None, right=None):\n",
    "        self.val = val\n",
    "        self.left = left\n",
    "        self.right = right"
   ]
  },
  {
   "cell_type": "code",
   "execution_count": 85,
   "metadata": {},
   "outputs": [],
   "source": [
    "def serialize(root_node):\n",
    "    items = [root_node.left,root_node.right]\n",
    "    values = [root_node.val]\n",
    "    while items:\n",
    "        if items[0]!=None:\n",
    "            values.append(items[0].val)\n",
    "            items.append(items[0].left)\n",
    "            items.append(items[0].right)\n",
    "        items.pop(0)\n",
    "    return values\n",
    "\n",
    "\n",
    "def deserialize(serial,index = 0):\n",
    "    if serial == [] or index >= len(serial):\n",
    "        return None\n",
    "    else:\n",
    "        value = serial[index]\n",
    "        left = 2*index+1\n",
    "        right = left+1\n",
    "        node = Node(value)\n",
    "        node.left = deserialize(serial,left)\n",
    "        node.right = deserialize(serial,right)\n",
    "        return node"
   ]
  },
  {
   "cell_type": "code",
   "execution_count": 94,
   "metadata": {},
   "outputs": [],
   "source": [
    "node = Node('root', Node('left', Node('left.left')), Node('right'))\n",
    "assert deserialize(serialize(node)).left.left.val == 'left.left'"
   ]
  },
  {
   "cell_type": "code",
   "execution_count": null,
   "metadata": {
    "collapsed": true
   },
   "outputs": [],
   "source": []
  }
 ],
 "metadata": {
  "kernelspec": {
   "display_name": "Python 3",
   "language": "python",
   "name": "python3"
  }
 },
 "nbformat": 4,
 "nbformat_minor": 2
}

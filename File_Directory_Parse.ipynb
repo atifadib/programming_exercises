{
 "cells": [
  {
   "cell_type": "markdown",
   "metadata": {},
   "source": [
    "### File Directory Parse\n",
    "#### Suppose we represent our file system by a string in the following manner:\n",
    "\n",
    "#### The string \"dir\\n\\tsubdir1\\n\\tsubdir2\\n\\t\\tfile.ext\" represents:\n",
    "\n",
    "#### dir\n",
    "####     subdir1\n",
    "####     subdir2\n",
    "####         file.ext\n",
    "#### The directory dir contains an empty sub-directory subdir1 and a sub-directory subdir2 containing a file file.ext.\n",
    "\n",
    "#### The string \"dir\\n\\tsubdir1\\n\\t\\tfile1.ext\\n\\t\\tsubsubdir1\\n\\tsubdir2\\n\\t\\tsubsubdir2\\n\\t\\t\\tfile2.ext\" represents:\n",
    "\n",
    "#### dir\n",
    "####     subdir1\n",
    "####         file1.ext\n",
    "####         subsubdir1\n",
    "####     subdir2\n",
    "####         subsubdir2\n",
    "####             file2.ext\n",
    "#### The directory dir contains two sub-directories subdir1 and subdir2. subdir1 contains a file file1.ext and an empty second-level sub-directory subsubdir1. subdir2 contains a second-level sub-directory subsubdir2 containing a file file2.ext.\n",
    "\n",
    "#### We are interested in finding the longest (number of characters) absolute path to a file within our file system. For example, in the second example above, the longest absolute path is \"dir/subdir2/subsubdir2/file2.ext\", and its length is 32 (not including the double quotes).\n",
    "\n",
    "#### Given a string representing the file system in the above format, return the length of the longest absolute path to a file in the abstracted file system. If there is no file in the system, return 0."
   ]
  },
  {
   "cell_type": "code",
   "execution_count": 1,
   "metadata": {
    "collapsed": true
   },
   "outputs": [],
   "source": [
    "def parse(file_tree: str) -> dict:\n",
    "    fs = dict()\n",
    "    file_tree = file_tree.split('\\n')\n",
    "    level = []\n",
    "    for file in file_tree:\n",
    "        indent = 0\n",
    "        while '\\t' in file[:2]:\n",
    "            indent += 1\n",
    "            file = file[1:]\n",
    "        \n",
    "        current_node = fs\n",
    "        for subdir in level[:indent]:\n",
    "            current_node = current_node[subdir]\n",
    "        \n",
    "        if '.' in file:\n",
    "            # Its a new Directory\n",
    "            current_node[file] = True\n",
    "        else:\n",
    "            current_node[file] = {}\n",
    "        level = level[:indent]\n",
    "        level.append(file)\n",
    "    return fs"
   ]
  },
  {
   "cell_type": "code",
   "execution_count": 10,
   "metadata": {},
   "outputs": [],
   "source": [
    "fs = parse(\"dir\\n\\tsubdir1\\n\\t\\tfile1.ext\\n\\t\\tsubsubsubsubsubssubdir1\\n\\tsubdir2\\n\\t\\tsubsubdir2\\n\\t\\t\\tfile2.ext\")"
   ]
  },
  {
   "cell_type": "code",
   "execution_count": 11,
   "metadata": {},
   "outputs": [
    {
     "data": {
      "text/plain": [
       "{'dir': {'subdir1': {'file1.ext': True, 'subsubsubsubsubssubdir1': {}},\n",
       "  'subdir2': {'subsubdir2': {'file2.ext': True}}}}"
      ]
     },
     "execution_count": 11,
     "metadata": {},
     "output_type": "execute_result"
    }
   ],
   "source": [
    "fs"
   ]
  },
  {
   "cell_type": "code",
   "execution_count": 26,
   "metadata": {
    "collapsed": true
   },
   "outputs": [],
   "source": [
    "def longest_path(fs:dict) -> list:\n",
    "    all_paths = ['']\n",
    "    for dirs,sub_dir in fs.items():\n",
    "        if sub_dir is not True:\n",
    "            paths = longest_path(sub_dir)\n",
    "            for p in paths:\n",
    "                all_paths.append(dirs+\"/\"+p)\n",
    "        else:\n",
    "            all_paths.append(dirs)\n",
    "    return sorted(all_paths,key=lambda x:len(x),reverse=True)\n",
    "\n",
    "def longest_file_path(fs:dict) -> str:\n",
    "    files = list(filter(lambda x:'.' in x,longest_path(fs)))\n",
    "    return files[0]"
   ]
  },
  {
   "cell_type": "code",
   "execution_count": 28,
   "metadata": {},
   "outputs": [
    {
     "data": {
      "text/plain": [
       "'dir/subdir2/subsubdir2/file2.ext'"
      ]
     },
     "execution_count": 28,
     "metadata": {},
     "output_type": "execute_result"
    }
   ],
   "source": [
    "longest_file_path(fs)"
   ]
  },
  {
   "cell_type": "code",
   "execution_count": 22,
   "metadata": {
    "collapsed": true
   },
   "outputs": [],
   "source": [
    "def longest_path(root):\n",
    "    paths = []\n",
    "    for key, node in root.items():\n",
    "        if node == True:\n",
    "            paths.append(key)\n",
    "        else:\n",
    "            paths.append(key + '/' + longest_path(node))\n",
    "    # filter out unfinished paths\n",
    "    paths = [path for path in paths if '.' in path]\n",
    "    if paths:\n",
    "        return max(paths, key=lambda path:len(path))\n",
    "    else:\n",
    "        return ''"
   ]
  },
  {
   "cell_type": "code",
   "execution_count": 23,
   "metadata": {},
   "outputs": [
    {
     "data": {
      "text/plain": [
       "'dir/subdir2/subsubdir2/file2.ext'"
      ]
     },
     "execution_count": 23,
     "metadata": {},
     "output_type": "execute_result"
    }
   ],
   "source": [
    "longest_path(fs)"
   ]
  },
  {
   "cell_type": "code",
   "execution_count": null,
   "metadata": {
    "collapsed": true
   },
   "outputs": [],
   "source": []
  }
 ],
 "metadata": {
  "kernelspec": {
   "display_name": "Python 3",
   "language": "python",
   "name": "python3"
  },
  "language_info": {
   "codemirror_mode": {
    "name": "ipython",
    "version": 3
   },
   "file_extension": ".py",
   "mimetype": "text/x-python",
   "name": "python",
   "nbconvert_exporter": "python",
   "pygments_lexer": "ipython3",
   "version": "3.6.7"
  }
 },
 "nbformat": 4,
 "nbformat_minor": 2
}

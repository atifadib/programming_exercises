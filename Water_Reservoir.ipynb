{
 "cells": [
  {
   "cell_type": "markdown",
   "metadata": {},
   "source": [
    "#### You are given an array of non-negative integers\n",
    "#### that represents a two-dimensional elevation map\n",
    "#### where each element is unit-width wall and the integer is the height.\n",
    "#### Suppose it will rain and all spots between two walls get filled up.\n",
    "\n",
    "#### Compute how many units of water remain trapped on the map in O(N) time and O(1) space.\n",
    "\n",
    "#### For example, given the input [2, 1, 2], we can hold 1 unit of water in the middle.\n",
    "\n",
    "#### Given the input [3, 0, 1, 3, 0, 5], we can hold 3 units in the first index,\n",
    "#### 2 in the second, and 3 in the fourth index \n",
    "#### (we cannot hold 5 since it would run off to the left),\n",
    "#### so we can trap 8 units of water."
   ]
  },
  {
   "cell_type": "code",
   "execution_count": 88,
   "metadata": {},
   "outputs": [],
   "source": [
    "def capacity(arr):\n",
    "    left_wall = arr[0]\n",
    "    right_wall = arr[-1]\n",
    "    step = 0\n",
    "    total_capacity = 0\n",
    "    block_size = 0\n",
    "    for index in range(1,len(arr)-1):\n",
    "        curr_wall = arr[index]\n",
    "        if curr_wall >= left_wall-1:\n",
    "            if step == 0:\n",
    "                step+=1\n",
    "            total_capacity += (step*min(curr_wall,left_wall)) - block_size\n",
    "            step = 0\n",
    "            block_size = 0\n",
    "            left_wall = curr_wall\n",
    "        else:\n",
    "            step+=1\n",
    "            block_size += curr_wall\n",
    "    if step >= 0:\n",
    "        total_capacity += (step*min(right_wall,left_wall)) - block_size\n",
    "    return total_capacity"
   ]
  },
  {
   "cell_type": "code",
   "execution_count": 89,
   "metadata": {},
   "outputs": [
    {
     "data": {
      "text/plain": [
       "3"
      ]
     },
     "execution_count": 89,
     "metadata": {},
     "output_type": "execute_result"
    }
   ],
   "source": [
    "capacity([3,0,2,0,1])"
   ]
  },
  {
   "cell_type": "code",
   "execution_count": 90,
   "metadata": {},
   "outputs": [
    {
     "data": {
      "text/plain": [
       "1"
      ]
     },
     "execution_count": 90,
     "metadata": {},
     "output_type": "execute_result"
    }
   ],
   "source": [
    "capacity([2,1,2])"
   ]
  },
  {
   "cell_type": "code",
   "execution_count": 91,
   "metadata": {},
   "outputs": [
    {
     "data": {
      "text/plain": [
       "1"
      ]
     },
     "execution_count": 91,
     "metadata": {},
     "output_type": "execute_result"
    }
   ],
   "source": [
    "capacity([1,0,0,2,0,1])"
   ]
  },
  {
   "cell_type": "code",
   "execution_count": 92,
   "metadata": {},
   "outputs": [
    {
     "data": {
      "text/plain": [
       "4"
      ]
     },
     "execution_count": 92,
     "metadata": {},
     "output_type": "execute_result"
    }
   ],
   "source": [
    "capacity([3, 0, 1, 2, 0, 1])"
   ]
  },
  {
   "cell_type": "code",
   "execution_count": 93,
   "metadata": {},
   "outputs": [
    {
     "data": {
      "text/plain": [
       "1"
      ]
     },
     "execution_count": 93,
     "metadata": {},
     "output_type": "execute_result"
    }
   ],
   "source": [
    "capacity([2,0,1,0,1])"
   ]
  },
  {
   "cell_type": "code",
   "execution_count": 94,
   "metadata": {},
   "outputs": [
    {
     "data": {
      "text/plain": [
       "0"
      ]
     },
     "execution_count": 94,
     "metadata": {},
     "output_type": "execute_result"
    }
   ],
   "source": [
    "capacity([1,0,0,0,1])"
   ]
  },
  {
   "cell_type": "code",
   "execution_count": 95,
   "metadata": {},
   "outputs": [
    {
     "data": {
      "text/plain": [
       "3"
      ]
     },
     "execution_count": 95,
     "metadata": {},
     "output_type": "execute_result"
    }
   ],
   "source": [
    "capacity([3,1,0,2])"
   ]
  },
  {
   "cell_type": "code",
   "execution_count": 96,
   "metadata": {},
   "outputs": [
    {
     "name": "stdout",
     "output_type": "stream",
     "text": [
      "1\n"
     ]
    }
   ],
   "source": [
    "for index in range(1,2):\n",
    "    print(index)"
   ]
  },
  {
   "cell_type": "code",
   "execution_count": null,
   "metadata": {
    "collapsed": true
   },
   "outputs": [],
   "source": []
  }
 ],
 "metadata": {
  "kernelspec": {
   "display_name": "Python 3",
   "language": "python",
   "name": "python3"
  },
  "language_info": {
   "codemirror_mode": {
    "name": "ipython",
    "version": 3
   },
   "file_extension": ".py",
   "mimetype": "text/x-python",
   "name": "python",
   "nbconvert_exporter": "python",
   "pygments_lexer": "ipython3",
   "version": "3.6.7"
  }
 },
 "nbformat": 4,
 "nbformat_minor": 2
}

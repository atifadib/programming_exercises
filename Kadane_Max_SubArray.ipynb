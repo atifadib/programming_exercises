{
 "cells": [
  {
   "cell_type": "code",
   "execution_count": 17,
   "metadata": {
    "collapsed": true
   },
   "outputs": [],
   "source": [
    "def max_sub_array(arr):\n",
    "    max_all = max_so_far = 0\n",
    "    start,end = 0,0\n",
    "    for i,x in enumerate(arr):\n",
    "        if x > max_so_far+x:\n",
    "            start = end = i\n",
    "            max_so_far = x\n",
    "        else:\n",
    "            max_so_far = max_so_far+x\n",
    "        max_all = max(max_so_far,max_all)\n",
    "        print(x,max_all,max_so_far)\n",
    "        end+=1\n",
    "    return max_all,start,end-1"
   ]
  },
  {
   "cell_type": "code",
   "execution_count": 20,
   "metadata": {},
   "outputs": [
    {
     "name": "stdout",
     "output_type": "stream",
     "text": [
      "1 1 1\n",
      "-2 1 -1\n",
      "3 3 3\n",
      "-5 3 -2\n",
      "6 6 6\n",
      "7 13 13\n"
     ]
    },
    {
     "data": {
      "text/plain": [
       "(13, 4, 5)"
      ]
     },
     "execution_count": 20,
     "metadata": {},
     "output_type": "execute_result"
    }
   ],
   "source": [
    "max_sub_array([1,-2,3,-5,6,7])"
   ]
  },
  {
   "cell_type": "code",
   "execution_count": null,
   "metadata": {
    "collapsed": true
   },
   "outputs": [],
   "source": []
  }
 ],
 "metadata": {
  "kernelspec": {
   "display_name": "Python 3",
   "language": "python",
   "name": "python3"
  },
  "language_info": {
   "codemirror_mode": {
    "name": "ipython",
    "version": 3
   },
   "file_extension": ".py",
   "mimetype": "text/x-python",
   "name": "python",
   "nbconvert_exporter": "python",
   "pygments_lexer": "ipython3",
   "version": "3.6.7"
  }
 },
 "nbformat": 4,
 "nbformat_minor": 2
}

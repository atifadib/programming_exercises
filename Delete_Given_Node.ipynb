{
 "cells": [
  {
   "cell_type": "code",
   "execution_count": 35,
   "metadata": {
    "collapsed": true
   },
   "outputs": [],
   "source": [
    "class LinkedList:\n",
    "    def __init__(self,value,next_item=None):\n",
    "        self.val = value\n",
    "        self.next = next_item\n",
    "        \n",
    "    def __str__(self):\n",
    "        temp = self\n",
    "        print('[',end='')\n",
    "        while temp is not None:\n",
    "            print(temp.val,end=',')\n",
    "            temp = temp.next\n",
    "        print(']')\n",
    "        return \"\"\n",
    "    \n",
    "    def del_n(self,n):\n",
    "        temp = self\n",
    "        for _ in range(n):\n",
    "            temp = temp.next\n",
    "            if temp is None:\n",
    "                break\n",
    "        self.delete(temp)\n",
    "        \n",
    "            \n",
    "    def delete(self,node):\n",
    "        if node.next is not None:\n",
    "            node.val = node.next.val\n",
    "            node.next = node.next.next\n",
    "        else:\n",
    "            pass"
   ]
  },
  {
   "cell_type": "code",
   "execution_count": 36,
   "metadata": {
    "collapsed": true
   },
   "outputs": [],
   "source": [
    "l = LinkedList(4,LinkedList(5,LinkedList(6,LinkedList(7))))"
   ]
  },
  {
   "cell_type": "code",
   "execution_count": 37,
   "metadata": {},
   "outputs": [
    {
     "name": "stdout",
     "output_type": "stream",
     "text": [
      "[4,5,6,7,]\n",
      "\n"
     ]
    }
   ],
   "source": [
    "print(l)"
   ]
  },
  {
   "cell_type": "code",
   "execution_count": 38,
   "metadata": {},
   "outputs": [],
   "source": [
    "l.del_n(2)"
   ]
  },
  {
   "cell_type": "code",
   "execution_count": 39,
   "metadata": {},
   "outputs": [
    {
     "name": "stdout",
     "output_type": "stream",
     "text": [
      "[4,5,7,]\n",
      "\n"
     ]
    }
   ],
   "source": [
    "print(l)"
   ]
  },
  {
   "cell_type": "code",
   "execution_count": null,
   "metadata": {
    "collapsed": true
   },
   "outputs": [],
   "source": []
  }
 ],
 "metadata": {
  "kernelspec": {
   "display_name": "Python 3",
   "language": "python",
   "name": "python3"
  },
  "language_info": {
   "codemirror_mode": {
    "name": "ipython",
    "version": 3
   },
   "file_extension": ".py",
   "mimetype": "text/x-python",
   "name": "python",
   "nbconvert_exporter": "python",
   "pygments_lexer": "ipython3",
   "version": "3.6.7"
  }
 },
 "nbformat": 4,
 "nbformat_minor": 2
}

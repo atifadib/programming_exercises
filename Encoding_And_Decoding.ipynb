{
 "cells": [
  {
   "cell_type": "markdown",
   "metadata": {},
   "source": [
    "## Encoding and Decoding\n",
    "#### Given the mapping a = 1, b = 2, ... z = 26, and an encoded message, count the number of ways it can be decoded.\n",
    "\n",
    "#### For example, the message '111' would give 3, since it could be decoded as 'aaa', 'ka', and 'ak'.\n",
    "\n",
    "#### You can assume that the messages are decodable. For example, '001' is not allowed."
   ]
  },
  {
   "cell_type": "code",
   "execution_count": 4,
   "metadata": {
    "collapsed": true
   },
   "outputs": [],
   "source": [
    "#Encoding Dict\n",
    "data = ([chr(_) for _ in range(97,97+26)],[str(_) for _ in range(1,27)])\n",
    "encode = dict(zip(data[0],data[1]))\n",
    "decode = dict(zip(data[1],data[0]))"
   ]
  },
  {
   "cell_type": "code",
   "execution_count": 134,
   "metadata": {
    "collapsed": true
   },
   "outputs": [],
   "source": [
    "from functools import lru_cache\n",
    "\n",
    "@lru_cache(maxsize=1024)\n",
    "def num_ways(msg):\n",
    "    if len(msg) >=2:\n",
    "        second = msg[:2]\n",
    "    else:\n",
    "        second = None\n",
    "    if len(msg) >= 1:\n",
    "        first = msg[:1]\n",
    "    else:\n",
    "        first = None\n",
    "    if first == \"\":\n",
    "        first = None\n",
    "    if second == \"\":\n",
    "        second = None\n",
    "    if first == second:\n",
    "        second = None\n",
    "    # Recursive Structure\n",
    "    if msg == \"\":\n",
    "        return 1\n",
    "    elif first in decode.keys() and second in decode.keys():\n",
    "        return  num_ways(msg[2:]) + num_ways(msg[1:]) \n",
    "    elif first in decode.keys() or second in decode.keys():\n",
    "        if msg[0:1] in decode.keys():\n",
    "            return  num_ways(msg[1:]) \n",
    "        else:\n",
    "            return  num_ways(msg[2:])\n",
    "    else:\n",
    "        return num_ways(msg[3:])"
   ]
  },
  {
   "cell_type": "code",
   "execution_count": 133,
   "metadata": {},
   "outputs": [
    {
     "name": "stdout",
     "output_type": "stream",
     "text": [
      "11.7 µs ± 557 ns per loop (mean ± std. dev. of 7 runs, 100000 loops each)\n"
     ]
    }
   ],
   "source": [
    "%timeit num_ways('11122')"
   ]
  },
  {
   "cell_type": "code",
   "execution_count": 135,
   "metadata": {},
   "outputs": [
    {
     "name": "stdout",
     "output_type": "stream",
     "text": [
      "78.9 ns ± 0.757 ns per loop (mean ± std. dev. of 7 runs, 10000000 loops each)\n"
     ]
    }
   ],
   "source": [
    "%timeit num_ways('11122')"
   ]
  },
  {
   "cell_type": "code",
   "execution_count": null,
   "metadata": {
    "collapsed": true
   },
   "outputs": [],
   "source": []
  }
 ],
 "metadata": {
  "kernelspec": {
   "display_name": "Python 3",
   "language": "python",
   "name": "python3"
  },
  "language_info": {
   "codemirror_mode": {
    "name": "ipython",
    "version": 3
   },
   "file_extension": ".py",
   "mimetype": "text/x-python",
   "name": "python",
   "nbconvert_exporter": "python",
   "pygments_lexer": "ipython3",
   "version": "3.6.7"
  }
 },
 "nbformat": 4,
 "nbformat_minor": 2
}

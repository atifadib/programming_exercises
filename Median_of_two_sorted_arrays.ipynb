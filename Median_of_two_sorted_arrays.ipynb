{
 "cells": [
  {
   "cell_type": "markdown",
   "metadata": {},
   "source": [
    "### Median of Two Sorted Arrays\n",
    "#### There are two sorted arrays nums1 and nums2 of size m and n respectively.\n",
    "\n",
    "#### Find the median of the two sorted arrays. The overall run time complexity should be O(log (m+n)).\n",
    "\n",
    "#### You may assume nums1 and nums2 cannot be both empty.\n",
    "\n",
    "#### Example 1:\n",
    "\n",
    "#### nums1 = [1, 3]\n",
    "#### nums2 = [2]\n",
    "\n",
    "#### The median is 2.0\n",
    "#### Example 2:\n",
    "\n",
    "#### nums1 = [1, 2]\n",
    "#### nums2 = [3, 4]\n",
    "\n",
    "#### The median is (2 + 3)/2 = 2.5"
   ]
  },
  {
   "cell_type": "code",
   "execution_count": 4,
   "metadata": {},
   "outputs": [],
   "source": [
    "class Solution:\n",
    "    def median(self,arr) -> float:\n",
    "        l = len(arr)\n",
    "        if l%2 == 0:\n",
    "            return (arr[int(l/2)] + arr[int(l/2)-1])/2\n",
    "        else:\n",
    "            return float(arr[int(l/2)])\n",
    "        \n",
    "    def findMedianSortedArrays(self, num1, num2) -> float:\n",
    "        start1 , start2 = 0, 0\n",
    "        new_arr = []\n",
    "        while start1 < len(num1) and start2 < len(num2):\n",
    "            if num1[start1] <= num2[start2]:\n",
    "                new_arr.append(num1[start1])\n",
    "                start1+=1\n",
    "            else:\n",
    "                new_arr.append(num2[start2])\n",
    "                start2+=1\n",
    "        if start1 != len(num1):\n",
    "            while start1 != len(num1):\n",
    "                new_arr.append(num1[start1])\n",
    "                start1+=1\n",
    "        if start2 != len(num2):\n",
    "            while start2 != len(num2):\n",
    "                new_arr.append(num2[start2])\n",
    "                start2+=1\n",
    "        return self.median(new_arr)"
   ]
  },
  {
   "cell_type": "code",
   "execution_count": 5,
   "metadata": {
    "collapsed": true
   },
   "outputs": [],
   "source": [
    "s = Solution()"
   ]
  },
  {
   "cell_type": "code",
   "execution_count": 6,
   "metadata": {},
   "outputs": [
    {
     "data": {
      "text/plain": [
       "4.5"
      ]
     },
     "execution_count": 6,
     "metadata": {},
     "output_type": "execute_result"
    }
   ],
   "source": [
    "s.findMedianSortedArrays([1,4,5],[2,6,8])"
   ]
  },
  {
   "cell_type": "code",
   "execution_count": null,
   "metadata": {
    "collapsed": true
   },
   "outputs": [],
   "source": []
  }
 ],
 "metadata": {
  "kernelspec": {
   "display_name": "Python 3",
   "language": "python",
   "name": "python3"
  },
  "language_info": {
   "codemirror_mode": {
    "name": "ipython",
    "version": 3
   },
   "file_extension": ".py",
   "mimetype": "text/x-python",
   "name": "python",
   "nbconvert_exporter": "python",
   "pygments_lexer": "ipython3",
   "version": "3.6.7"
  }
 },
 "nbformat": 4,
 "nbformat_minor": 2
}

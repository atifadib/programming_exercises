{
 "cells": [
  {
   "cell_type": "code",
   "execution_count": 12,
   "metadata": {
    "collapsed": true
   },
   "outputs": [],
   "source": [
    "from pprint import pprint\n",
    "def subset_sum(nums, k):\n",
    "    A = [[None for _ in range(k + 1)] for _ in range(len(nums) + 1)]\n",
    "    #pprint(A)\n",
    "    for i in range(len(nums) + 1):\n",
    "        A[i][0] = []\n",
    "    #pprint(A)\n",
    "    #print('++++++++++++++++++++++++++++++++++++++++++++++++++++')\n",
    "    for i in range(1, len(nums) + 1):\n",
    "        for j in range(1, k + 1):\n",
    "            last = nums[i - 1]\n",
    "            if last > j:\n",
    "                A[i][j] = A[i - 1][j]\n",
    "            else:\n",
    "                if A[i - 1][j] is not None:\n",
    "                    A[i][j] = A[i - 1][j]\n",
    "                elif A[i - 1][j - last] is not None:\n",
    "                    A[i][j] = A[i - 1][j - last] + [last]\n",
    "                else:\n",
    "                    A[i][j] = None\n",
    "            #pprint(A)\n",
    "            #print('++++++++++++++++++++++++++++++++++++++++++++++++++++')\n",
    "\n",
    "    return A[-1][-1]"
   ]
  },
  {
   "cell_type": "code",
   "execution_count": 13,
   "metadata": {},
   "outputs": [
    {
     "data": {
      "text/plain": [
       "[1, 1, 4]"
      ]
     },
     "execution_count": 13,
     "metadata": {},
     "output_type": "execute_result"
    }
   ],
   "source": [
    "subset_sum([1,1,4,2,3,6],6)"
   ]
  },
  {
   "cell_type": "code",
   "execution_count": null,
   "metadata": {
    "collapsed": true
   },
   "outputs": [],
   "source": []
  }
 ],
 "metadata": {
  "kernelspec": {
   "display_name": "Python 3",
   "language": "python",
   "name": "python3"
  },
  "language_info": {
   "codemirror_mode": {
    "name": "ipython",
    "version": 3
   },
   "file_extension": ".py",
   "mimetype": "text/x-python",
   "name": "python",
   "nbconvert_exporter": "python",
   "pygments_lexer": "ipython3",
   "version": "3.6.7"
  }
 },
 "nbformat": 4,
 "nbformat_minor": 2
}

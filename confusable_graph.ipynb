{
 "cells": [
  {
   "cell_type": "code",
   "execution_count": 23,
   "metadata": {
    "collapsed": true
   },
   "outputs": [],
   "source": [
    "class confusable_char_pool:\n",
    "    def __init__(self,chars):\n",
    "        self.pool = set(chars)\n",
    "        \n",
    "    def add_char(self,char):\n",
    "        self.pool.add(char)"
   ]
  },
  {
   "cell_type": "code",
   "execution_count": 29,
   "metadata": {
    "collapsed": true
   },
   "outputs": [],
   "source": [
    "confusable = [('3','8'),('8','e'),('9','6'),('l','1')]"
   ]
  },
  {
   "cell_type": "code",
   "execution_count": 33,
   "metadata": {},
   "outputs": [],
   "source": [
    "confusable_graph = dict()\n",
    "\n",
    "def get_pool(char,pools):\n",
    "    for pool in pools:\n",
    "        if char in pool.pool:\n",
    "            return pool\n",
    "    return None\n",
    "\n",
    "def add_pair(c1,c2,confusable_graph):\n",
    "    if c1 in confusable_graph.keys():\n",
    "        confusable_graph[c1].add_char(c2)\n",
    "    else:\n",
    "        pool1 = get_pool(c1,confusable_graph.values())\n",
    "        pool2 = get_pool(c2,confusable_graph.values())\n",
    "        if pool1 is not None:\n",
    "            pool = pool1\n",
    "        elif pool2 is not None:\n",
    "            pool = pool2\n",
    "        else:\n",
    "            pool = None\n",
    "        if pool is not None:\n",
    "            pool.add_char(c2)\n",
    "            confusable_graph[c1] = pool\n",
    "        else:\n",
    "            confusable_graph[c1] = confusable_char_pool([c2])\n",
    "\n",
    "for c in confusable:\n",
    "    c1, c2 = c\n",
    "    add_pair(c1,c2,confusable_graph)\n",
    "    add_pair(c2,c1,confusable_graph)"
   ]
  },
  {
   "cell_type": "code",
   "execution_count": 34,
   "metadata": {},
   "outputs": [
    {
     "name": "stdout",
     "output_type": "stream",
     "text": [
      "3 <__main__.confusable_char_pool object at 0x104f10da0> {'8', '3', 'e'}\n",
      "8 <__main__.confusable_char_pool object at 0x104f10da0> {'8', '3', 'e'}\n",
      "e <__main__.confusable_char_pool object at 0x104f10da0> {'8', '3', 'e'}\n",
      "9 <__main__.confusable_char_pool object at 0x104f10048> {'6', '9'}\n",
      "6 <__main__.confusable_char_pool object at 0x104f10048> {'6', '9'}\n",
      "l <__main__.confusable_char_pool object at 0x104f106a0> {'1', 'l'}\n",
      "1 <__main__.confusable_char_pool object at 0x104f106a0> {'1', 'l'}\n"
     ]
    }
   ],
   "source": [
    "for k,v in confusable_graph.items():\n",
    "    print(k,v,v.pool)"
   ]
  },
  {
   "cell_type": "code",
   "execution_count": 35,
   "metadata": {
    "collapsed": true
   },
   "outputs": [],
   "source": [
    "def is_confusable(a,b,confusable_graph):\n",
    "    if b in confusable_graph[a].pool or a in confusable_graph[b].pool:\n",
    "        return True\n",
    "    return False"
   ]
  },
  {
   "cell_type": "code",
   "execution_count": 38,
   "metadata": {},
   "outputs": [
    {
     "data": {
      "text/plain": [
       "False"
      ]
     },
     "execution_count": 38,
     "metadata": {},
     "output_type": "execute_result"
    }
   ],
   "source": [
    "is_confusable('9','3',confusable_graph)"
   ]
  },
  {
   "cell_type": "code",
   "execution_count": null,
   "metadata": {
    "collapsed": true
   },
   "outputs": [],
   "source": []
  }
 ],
 "metadata": {
  "kernelspec": {
   "display_name": "Python 3",
   "language": "python",
   "name": "python3"
  },
  "language_info": {
   "codemirror_mode": {
    "name": "ipython",
    "version": 3
   },
   "file_extension": ".py",
   "mimetype": "text/x-python",
   "name": "python",
   "nbconvert_exporter": "python",
   "pygments_lexer": "ipython3",
   "version": "3.6.7"
  }
 },
 "nbformat": 4,
 "nbformat_minor": 2
}

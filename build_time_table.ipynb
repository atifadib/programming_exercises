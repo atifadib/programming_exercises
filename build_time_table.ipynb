{
 "cells": [
  {
   "cell_type": "markdown",
   "metadata": {},
   "source": [
    "# Given an array of time intervals (start, end) for classroom lectures (possibly overlapping), find the minimum number of rooms required.\n",
    "\n",
    "# For example, given [(30, 75), (0, 50), (60, 150)], you should return 2."
   ]
  },
  {
   "cell_type": "code",
   "execution_count": 14,
   "metadata": {
    "collapsed": true
   },
   "outputs": [],
   "source": [
    "def class_number(time_table):\n",
    "    time_table = sorted(time_table,key = lambda x:x[0])\n",
    "    index,nxt= 0,1\n",
    "    classrooms = 0\n",
    "    print(time_table)\n",
    "    while index < len(time_table) and nxt < len(time_table):\n",
    "        curr_class = time_table[index]\n",
    "        next_class = time_table[nxt]\n",
    "        start = max(curr_class[0],next_class[0])\n",
    "        end = min(curr_class[1],next_class[1])\n",
    "        if end - start > 0:\n",
    "            classrooms+=1\n",
    "            nxt+=1\n",
    "        else:\n",
    "            index+=1\n",
    "    return classrooms"
   ]
  },
  {
   "cell_type": "code",
   "execution_count": 16,
   "metadata": {},
   "outputs": [
    {
     "name": "stdout",
     "output_type": "stream",
     "text": [
      "[(0, 50), (30, 75), (60, 150)]\n"
     ]
    },
    {
     "data": {
      "text/plain": [
       "2"
      ]
     },
     "execution_count": 16,
     "metadata": {},
     "output_type": "execute_result"
    }
   ],
   "source": [
    "class_number([(30, 75),(0, 50), (60, 150)])"
   ]
  },
  {
   "cell_type": "code",
   "execution_count": null,
   "metadata": {
    "collapsed": true
   },
   "outputs": [],
   "source": []
  }
 ],
 "metadata": {
  "kernelspec": {
   "display_name": "Python 3",
   "language": "python",
   "name": "python3"
  },
  "language_info": {
   "codemirror_mode": {
    "name": "ipython",
    "version": 3
   },
   "file_extension": ".py",
   "mimetype": "text/x-python",
   "name": "python",
   "nbconvert_exporter": "python",
   "pygments_lexer": "ipython3",
   "version": "3.6.7"
  }
 },
 "nbformat": 4,
 "nbformat_minor": 2
}

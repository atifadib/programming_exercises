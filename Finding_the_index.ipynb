{
 "cells": [
  {
   "cell_type": "markdown",
   "metadata": {},
   "source": [
    "### Finding the Index\n",
    "#### Given a sorted array find the index where value is equal to the index"
   ]
  },
  {
   "cell_type": "code",
   "execution_count": 1,
   "metadata": {
    "collapsed": true
   },
   "outputs": [],
   "source": [
    "# Linear O(N) solution\n",
    "def find(arr):\n",
    "    for index, value in enumerate(arr):\n",
    "        if index == value:\n",
    "            return index\n",
    "    return -1"
   ]
  },
  {
   "cell_type": "code",
   "execution_count": 18,
   "metadata": {
    "collapsed": true
   },
   "outputs": [],
   "source": [
    "# O(LogN) solution\n",
    "import sys\n",
    "\n",
    "def find_log(arr):\n",
    "    min_index = sys.maxsize\n",
    "    start = 0\n",
    "    end = len(arr)\n",
    "    mid = int((start+end)/2)\n",
    "    while start <= end:\n",
    "        if arr[mid] < mid:\n",
    "            start = mid - 1\n",
    "        elif arr[mid] > mid:\n",
    "            end = mid - 1\n",
    "        else:\n",
    "            if mid < min_index:\n",
    "                min_index = mid\n",
    "            end = mid - 1\n",
    "        mid = int((start+end)/2)\n",
    "    if min_index != sys.maxsize:\n",
    "        return min_index\n",
    "    return -1"
   ]
  },
  {
   "cell_type": "code",
   "execution_count": 19,
   "metadata": {},
   "outputs": [
    {
     "data": {
      "text/plain": [
       "1"
      ]
     },
     "execution_count": 19,
     "metadata": {},
     "output_type": "execute_result"
    }
   ],
   "source": [
    "find([1,1,2])"
   ]
  },
  {
   "cell_type": "code",
   "execution_count": 20,
   "metadata": {},
   "outputs": [
    {
     "data": {
      "text/plain": [
       "0"
      ]
     },
     "execution_count": 20,
     "metadata": {},
     "output_type": "execute_result"
    }
   ],
   "source": [
    "find_log([0,1,2])"
   ]
  },
  {
   "cell_type": "code",
   "execution_count": null,
   "metadata": {
    "collapsed": true
   },
   "outputs": [],
   "source": []
  }
 ],
 "metadata": {
  "kernelspec": {
   "display_name": "Python 3",
   "language": "python",
   "name": "python3"
  },
  "language_info": {
   "codemirror_mode": {
    "name": "ipython",
    "version": 3
   },
   "file_extension": ".py",
   "mimetype": "text/x-python",
   "name": "python",
   "nbconvert_exporter": "python",
   "pygments_lexer": "ipython3",
   "version": "3.6.7"
  }
 },
 "nbformat": 4,
 "nbformat_minor": 2
}

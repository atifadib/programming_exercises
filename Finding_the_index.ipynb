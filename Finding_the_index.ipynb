{
 "cells": [
  {
   "cell_type": "markdown",
   "metadata": {},
   "source": [
    "### Finding the Index\n",
    "#### Given a sorted array find the index where value is equal to the index"
   ]
  },
  {
   "cell_type": "code",
   "execution_count": 6,
   "metadata": {
    "collapsed": true
   },
   "outputs": [],
   "source": [
    "# Linear O(N) solution\n",
    "def find(arr):\n",
    "    for index, value in enumerate(arr):\n",
    "        if index == value:\n",
    "            return index\n",
    "    return -1"
   ]
  },
  {
   "cell_type": "code",
   "execution_count": 248,
   "metadata": {
    "collapsed": true
   },
   "outputs": [],
   "source": [
    "# O(LogN) solution\n",
    "import sys\n",
    "\n",
    "def find_log(arr):\n",
    "    min_mid = sys.maxsize\n",
    "    start = 0\n",
    "    end = len(arr)\n",
    "    mid = (start+end)//2\n",
    "    while start <= end and mid < len(arr):\n",
    "        if mid > arr[mid]:\n",
    "            start = mid + 1\n",
    "        elif mid < arr[mid]:\n",
    "            end = mid - 1\n",
    "        else:\n",
    "            if mid < min_mid:\n",
    "                min_mid = mid\n",
    "            end = mid - 1\n",
    "        mid = (start+end)//2\n",
    "    if min_mid != sys.maxsize:\n",
    "        return min_mid\n",
    "    return -1"
   ]
  },
  {
   "cell_type": "code",
   "execution_count": 249,
   "metadata": {},
   "outputs": [
    {
     "data": {
      "text/plain": [
       "-1"
      ]
     },
     "execution_count": 249,
     "metadata": {},
     "output_type": "execute_result"
    }
   ],
   "source": [
    "find([-84, -76, -74, -42, 19, 54, 75, 78, 87, 99])"
   ]
  },
  {
   "cell_type": "code",
   "execution_count": 250,
   "metadata": {},
   "outputs": [
    {
     "data": {
      "text/plain": [
       "6"
      ]
     },
     "execution_count": 250,
     "metadata": {},
     "output_type": "execute_result"
    }
   ],
   "source": [
    "find_log([-93, -92, -82, -57, -16, -12, 6, 7, 21, 55])"
   ]
  },
  {
   "cell_type": "code",
   "execution_count": 251,
   "metadata": {},
   "outputs": [
    {
     "data": {
      "text/plain": [
       "5"
      ]
     },
     "execution_count": 251,
     "metadata": {},
     "output_type": "execute_result"
    }
   ],
   "source": [
    "find_log([-86, -73, -43, -36, -2, 5, 6, 11, 38, 44])"
   ]
  },
  {
   "cell_type": "code",
   "execution_count": 252,
   "metadata": {},
   "outputs": [
    {
     "data": {
      "text/plain": [
       "1"
      ]
     },
     "execution_count": 252,
     "metadata": {},
     "output_type": "execute_result"
    }
   ],
   "source": [
    "find_log([1,1,2])"
   ]
  },
  {
   "cell_type": "code",
   "execution_count": 253,
   "metadata": {},
   "outputs": [
    {
     "name": "stderr",
     "output_type": "stream",
     "text": [
      "100%|██████████| 1000/1000 [00:00<00:00, 65411.31it/s]\n"
     ]
    }
   ],
   "source": [
    "from tqdm import tqdm\n",
    "import time\n",
    "testSize = 1000\n",
    "timer = []\n",
    "for _ in tqdm(range(testSize)):\n",
    "    size = np.random.randint(0,10000)\n",
    "    inp = sorted(np.random.randint(-100,100,10))\n",
    "    times = []\n",
    "    s = time.time()\n",
    "    out1 = find(inp)\n",
    "    times.append(time.time()-s)\n",
    "    s = time.time()\n",
    "    out2 = find_log(inp)\n",
    "    times.append(time.time()-s)\n",
    "    assert out1 == out2\n",
    "    timer.append(times)"
   ]
  },
  {
   "cell_type": "code",
   "execution_count": null,
   "metadata": {
    "collapsed": true
   },
   "outputs": [],
   "source": []
  }
 ],
 "metadata": {
  "kernelspec": {
   "display_name": "Python 3",
   "language": "python",
   "name": "python3"
  },
  "language_info": {
   "codemirror_mode": {
    "name": "ipython",
    "version": 3
   },
   "file_extension": ".py",
   "mimetype": "text/x-python",
   "name": "python",
   "nbconvert_exporter": "python",
   "pygments_lexer": "ipython3",
   "version": "3.6.7"
  }
 },
 "nbformat": 4,
 "nbformat_minor": 2
}

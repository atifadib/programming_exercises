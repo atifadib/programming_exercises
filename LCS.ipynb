{
 "cells": [
  {
   "cell_type": "markdown",
   "metadata": {},
   "source": [
    "#### The edit distance between two strings refers to the minimum number of character insertions, deletions, and substitutions required to change one string to the other.\n",
    "#### For example, the edit distance between “kitten” and “sitting” is three:\n",
    "#### substitute the “k” for “s”, substitute the “e” for “i”, and append a “g”.\n",
    "\n",
    "#### Given two strings, compute the edit distance between them."
   ]
  },
  {
   "cell_type": "code",
   "execution_count": 84,
   "metadata": {
    "collapsed": true
   },
   "outputs": [],
   "source": [
    "def edit_distance(a,b):\n",
    "    if a == b:\n",
    "        return 0\n",
    "    memo = [[0]*(len(a)+1)]*(len(b)+1)\n",
    "    for index_b in range(len(b)):\n",
    "        for index_a in enumerate(a):\n",
    "            if char_a == char_b:\n",
    "                memo[index_b+1][index_a+1] = memo[index_b][index_a]+1\n",
    "            if \n",
    "            else:\n",
    "                memo[index_b+1][index_a+1] = min(memo[index_b+1][index_a],memo[index_b][index_a+1]),memo[index_b][index_a]+1)\n",
    "    print(memo)\n",
    "    return memo[-1][-1]//2"
   ]
  },
  {
   "cell_type": "code",
   "execution_count": null,
   "metadata": {
    "collapsed": true
   },
   "outputs": [],
   "source": []
  }
 ],
 "metadata": {
  "kernelspec": {
   "display_name": "Python 3",
   "language": "python",
   "name": "python3"
  },
  "language_info": {
   "codemirror_mode": {
    "name": "ipython",
    "version": 3
   },
   "file_extension": ".py",
   "mimetype": "text/x-python",
   "name": "python",
   "nbconvert_exporter": "python",
   "pygments_lexer": "ipython3",
   "version": "3.6.7"
  }
 },
 "nbformat": 4,
 "nbformat_minor": 2
}

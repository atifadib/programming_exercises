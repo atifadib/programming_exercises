{
 "cells": [
  {
   "cell_type": "code",
   "execution_count": 1,
   "metadata": {
    "collapsed": true
   },
   "outputs": [],
   "source": [
    "class BinTree:\n",
    "    def __init__(self,left,right,val):\n",
    "        self.left = left\n",
    "        self.right = right\n",
    "        self.val = val"
   ]
  },
  {
   "cell_type": "code",
   "execution_count": 7,
   "metadata": {
    "collapsed": true
   },
   "outputs": [],
   "source": [
    "tree = BinTree(BinTree(BinTree(4,2,'*'),5,'+'),BinTree(4,5,'+'),'*')"
   ]
  },
  {
   "cell_type": "code",
   "execution_count": 10,
   "metadata": {
    "collapsed": true
   },
   "outputs": [],
   "source": [
    "def evaluate(sym,v1,v2):\n",
    "    if sym=='*':\n",
    "        return v1*v2\n",
    "    if sym=='+':\n",
    "        return v1+v2\n",
    "    return 0\n",
    "\n",
    "def compute(bintree):\n",
    "    if type(bintree.left)==int and type(bintree.right)==int:\n",
    "        return evaluate(bintree.val,bintree.left,bintree.right)\n",
    "    \n",
    "    if type(bintree.left)==int and type(bintree.right)!=int:\n",
    "        return evaluate(bintree.val,bintree.left,compute(bintree.right))\n",
    "    \n",
    "    if type(bintree.left)!=int and type(bintree.right)==int:\n",
    "        return evaluate(bintree.val,compute(bintree.left),bintree.right)\n",
    "    \n",
    "    return evaluate(bintree.val,compute(bintree.left),compute(bintree.right))"
   ]
  },
  {
   "cell_type": "code",
   "execution_count": 11,
   "metadata": {},
   "outputs": [
    {
     "data": {
      "text/plain": [
       "117"
      ]
     },
     "execution_count": 11,
     "metadata": {},
     "output_type": "execute_result"
    }
   ],
   "source": [
    "compute(tree)"
   ]
  },
  {
   "cell_type": "code",
   "execution_count": null,
   "metadata": {
    "collapsed": true
   },
   "outputs": [],
   "source": []
  }
 ],
 "metadata": {
  "kernelspec": {
   "display_name": "Python 3",
   "language": "python",
   "name": "python3"
  },
  "language_info": {
   "codemirror_mode": {
    "name": "ipython",
    "version": 3
   },
   "file_extension": ".py",
   "mimetype": "text/x-python",
   "name": "python",
   "nbconvert_exporter": "python",
   "pygments_lexer": "ipython3",
   "version": "3.6.7"
  }
 },
 "nbformat": 4,
 "nbformat_minor": 2
}

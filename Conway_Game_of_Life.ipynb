{
 "cells": [
  {
   "cell_type": "code",
   "execution_count": 49,
   "metadata": {
    "collapsed": true
   },
   "outputs": [],
   "source": [
    "def update(mat,i,j):\n",
    "    r,c = len(mat),len(mat[0])\n",
    "    neighbors = [((i-1)%r,(j-1)%c),((i+1)%r,(j+1)%c),((i+1)%r,(j%c)),((i-1)%r,(j)%c),(i%r,(j+1)%c),(i%r,(j-1)%c),((i+1)%r,(j-1)%c),((i-1)%r,(j+1)%c)]\n",
    "    live,dead = 0,0\n",
    "    prev = mat[i][j]\n",
    "    #print(neighbors)\n",
    "    for _ in neighbors:\n",
    "        if mat[_[0]][_[1]] == '*':\n",
    "            live+=1\n",
    "        else:\n",
    "            dead+=1\n",
    "    if mat[i][j] == '*':\n",
    "        if live < 2:\n",
    "            mat[i][j]='.'\n",
    "        elif live == 2 or live == 3:\n",
    "            pass\n",
    "        elif live > 3:\n",
    "            mat[i][j]='.'\n",
    "        else:\n",
    "            pass\n",
    "    else:\n",
    "        if live == 3:\n",
    "            mat[i][j]='*'\n",
    "    if prev != mat[i][j]:\n",
    "        return neighbors\n",
    "    else:\n",
    "        return []"
   ]
  },
  {
   "cell_type": "code",
   "execution_count": 76,
   "metadata": {
    "collapsed": true
   },
   "outputs": [],
   "source": [
    "mat = [['.','*','.','.'],['.','*','*','.'],['*','*','.','*'],['.','*','.','*']]"
   ]
  },
  {
   "cell_type": "code",
   "execution_count": 77,
   "metadata": {
    "collapsed": true
   },
   "outputs": [],
   "source": [
    "live = [(0,1),(1,1),(1,2),(2,0),(2,1),(2,3),(3,1),(3,3)]"
   ]
  },
  {
   "cell_type": "code",
   "execution_count": 78,
   "metadata": {
    "collapsed": true
   },
   "outputs": [],
   "source": [
    "import numpy as np\n",
    "import time\n",
    "def conway(mat,live):\n",
    "    print(np.matrix(mat))\n",
    "    print(\"========================\")\n",
    "    while len(live)>0:\n",
    "        new = []\n",
    "        for _ in live:\n",
    "            new.extend(update(mat,_[0],_[1]))\n",
    "        live = new\n",
    "        print(np.matrix(mat))\n",
    "        print(\"========================\")\n",
    "        time.sleep(0.1)\n",
    "        "
   ]
  },
  {
   "cell_type": "code",
   "execution_count": 79,
   "metadata": {},
   "outputs": [
    {
     "name": "stdout",
     "output_type": "stream",
     "text": [
      "[['.' '*' '.' '.']\n",
      " ['.' '*' '*' '.']\n",
      " ['*' '*' '.' '*']\n",
      " ['.' '*' '.' '*']]\n",
      "========================\n",
      "[['.' '*' '.' '.']\n",
      " ['.' '.' '*' '.']\n",
      " ['.' '*' '.' '*']\n",
      " ['.' '*' '.' '.']]\n",
      "========================\n",
      "[['*' '*' '*' '.']\n",
      " ['*' '.' '*' '.']\n",
      " ['.' '*' '.' '*']\n",
      " ['.' '*' '.' '.']]\n",
      "========================\n",
      "[['*' '.' '*' '.']\n",
      " ['*' '.' '*' '.']\n",
      " ['.' '*' '.' '*']\n",
      " ['.' '*' '.' '*']]\n",
      "========================\n",
      "[['*' '.' '*' '.']\n",
      " ['*' '.' '*' '.']\n",
      " ['.' '*' '.' '*']\n",
      " ['.' '*' '.' '*']]\n",
      "========================\n"
     ]
    }
   ],
   "source": [
    "conway(mat,live)"
   ]
  },
  {
   "cell_type": "code",
   "execution_count": null,
   "metadata": {
    "collapsed": true
   },
   "outputs": [],
   "source": []
  }
 ],
 "metadata": {
  "kernelspec": {
   "display_name": "Python 3",
   "language": "python",
   "name": "python3"
  },
  "language_info": {
   "codemirror_mode": {
    "name": "ipython",
    "version": 3
   },
   "file_extension": ".py",
   "mimetype": "text/x-python",
   "name": "python",
   "nbconvert_exporter": "python",
   "pygments_lexer": "ipython3",
   "version": "3.6.7"
  }
 },
 "nbformat": 4,
 "nbformat_minor": 2
}

{
 "cells": [
  {
   "cell_type": "code",
   "execution_count": null,
   "metadata": {
    "collapsed": true
   },
   "outputs": [],
   "source": [
    "def find_new_points(x,y,seen,recursion,limit):\n",
    "    if recursion == limit:\n",
    "        return seen\n",
    "    new_points = [(x+1,y+2),(x-1,y+2),(x+2,y+1),(x+2,y-1),\\\n",
    "                 (x+1,y-2),(x-1,y-2),(x-2,y+1),(x-2,y-1)]\n",
    "    for point in new_points:\n",
    "        seen.add(point)\n",
    "        seen = seen.union(find_new_points(point[0],point[1],seen,recursion+1,limit))\n",
    "    return seen"
   ]
  },
  {
   "cell_type": "code",
   "execution_count": null,
   "metadata": {},
   "outputs": [],
   "source": [
    "x,y = 0,0\n",
    "n = 6\n",
    "unique_points = find_new_points(x,y,seen={(x,y)},recursion=0,limit=n)\n",
    "print(len(unique_points))"
   ]
  },
  {
   "cell_type": "code",
   "execution_count": null,
   "metadata": {},
   "outputs": [],
   "source": [
    "from tqdm import tqdm\n",
    "points = []\n",
    "for _ in tqdm(range(1,100)):\n",
    "    unique_points = find_new_points(x,y,seen={(x,y)},recursion=0,limit=_)\n",
    "    print(_,'-->',len(unique_points))\n",
    "    points.append(len(unique_points))"
   ]
  },
  {
   "cell_type": "code",
   "execution_count": 17,
   "metadata": {},
   "outputs": [
    {
     "name": "stdout",
     "output_type": "stream",
     "text": [
      "37\n"
     ]
    }
   ],
   "source": [
    "def cal(n):\n",
    "    return 7*n*n + 4*n + 1\n",
    "print(cal(2))"
   ]
  },
  {
   "cell_type": "code",
   "execution_count": null,
   "metadata": {
    "collapsed": true
   },
   "outputs": [],
   "source": [
    "0 --> 1\n",
    "1 --> 9\n",
    "2 --> 41\n",
    "3 --> 109\n",
    "4 --> 205\n",
    "5 --> 325\n",
    "6 --> 473\n",
    "7 --> 649\n",
    "8 --> 853"
   ]
  },
  {
   "cell_type": "code",
   "execution_count": 1,
   "metadata": {},
   "outputs": [
    {
     "data": {
      "text/plain": [
       "(8, 32)"
      ]
     },
     "execution_count": 1,
     "metadata": {},
     "output_type": "execute_result"
    }
   ],
   "source": [
    "1,2, 3, 4, 5,  6\n",
    "8,32,68,96,120,148"
   ]
  },
  {
   "cell_type": "code",
   "execution_count": 5,
   "metadata": {},
   "outputs": [
    {
     "data": {
      "text/plain": [
       "148"
      ]
     },
     "execution_count": 5,
     "metadata": {},
     "output_type": "execute_result"
    }
   ],
   "source": [
    "473-325"
   ]
  },
  {
   "cell_type": "code",
   "execution_count": 6,
   "metadata": {},
   "outputs": [
    {
     "data": {
      "text/plain": [
       "12.0"
      ]
     },
     "execution_count": 6,
     "metadata": {},
     "output_type": "execute_result"
    }
   ],
   "source": [
    "96/8"
   ]
  },
  {
   "cell_type": "code",
   "execution_count": 10,
   "metadata": {},
   "outputs": [
    {
     "name": "stdout",
     "output_type": "stream",
     "text": [
      "[1.1428571428571428, 4.571428571428571, 9.714285714285714, 13.714285714285714, 17.142857142857142, 21.142857142857142]\n"
     ]
    }
   ],
   "source": [
    "l = [8,32,68,96,120,148]\n",
    "print([_/8 for _ in l])"
   ]
  },
  {
   "cell_type": "code",
   "execution_count": null,
   "metadata": {
    "collapsed": true
   },
   "outputs": [],
   "source": []
  }
 ],
 "metadata": {
  "kernelspec": {
   "display_name": "Python 3",
   "language": "python",
   "name": "python3"
  },
  "language_info": {
   "codemirror_mode": {
    "name": "ipython",
    "version": 3
   },
   "file_extension": ".py",
   "mimetype": "text/x-python",
   "name": "python",
   "nbconvert_exporter": "python",
   "pygments_lexer": "ipython3",
   "version": "3.6.7"
  }
 },
 "nbformat": 4,
 "nbformat_minor": 2
}

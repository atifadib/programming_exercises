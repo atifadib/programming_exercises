{
 "cells": [
  {
   "cell_type": "markdown",
   "metadata": {},
   "source": [
    "## Implement regular expression matching with the following special characters:\n",
    "\n",
    "### . (period) which matches any single character\n",
    "### * (asterisk) which matches zero or more of the preceding element\n",
    "### That is, implement a function that takes in a string and a valid regular expression and returns whether or not the string matches the regular expression.\n",
    "\n",
    "### For example, given the regular expression \"ra.\" and the string \"ray\", your function should return true. The same regular expression on the string \"raymond\" should return false.\n",
    "\n",
    "### Given the regular expression \".*at\" and the string \"chat\", your function should return true. The same regular expression on the string \"chats\" should return false."
   ]
  },
  {
   "cell_type": "code",
   "execution_count": 83,
   "metadata": {},
   "outputs": [],
   "source": [
    "def regex_matcher(string,regex):\n",
    "    match = False\n",
    "    index = 0\n",
    "    for idx,pat in enumerate(regex):\n",
    "        if pat == '.':\n",
    "            index+=1\n",
    "            if index < len(string):\n",
    "                match = True\n",
    "        elif pat == '*':\n",
    "            if idx+1 < len(regex):\n",
    "                next_pat = regex[idx+1]\n",
    "                while index < len(string) and string[index]!=next_pat:\n",
    "                    index+=1\n",
    "                if index == len(string):\n",
    "                    return False\n",
    "                else:\n",
    "                    match = True\n",
    "            else:\n",
    "                return match\n",
    "        else:\n",
    "            if pat != string[index]:\n",
    "                return False\n",
    "            else:\n",
    "                index+=1\n",
    "                match = True\n",
    "        if index >= len(string):\n",
    "            if idx != len(regex)-1:\n",
    "                match = False\n",
    "            break\n",
    "    if index == len(string) and idx == len(regex)-1:\n",
    "        return match\n",
    "    else:\n",
    "        return False"
   ]
  },
  {
   "cell_type": "code",
   "execution_count": 88,
   "metadata": {},
   "outputs": [
    {
     "data": {
      "text/plain": [
       "True"
      ]
     },
     "execution_count": 88,
     "metadata": {},
     "output_type": "execute_result"
    }
   ],
   "source": [
    "regex_matcher('cchatab','.*at*a*')"
   ]
  },
  {
   "cell_type": "code",
   "execution_count": null,
   "metadata": {
    "collapsed": true
   },
   "outputs": [],
   "source": []
  }
 ],
 "metadata": {
  "kernelspec": {
   "display_name": "Python 3",
   "language": "python",
   "name": "python3"
  },
  "language_info": {
   "codemirror_mode": {
    "name": "ipython",
    "version": 3
   },
   "file_extension": ".py",
   "mimetype": "text/x-python",
   "name": "python",
   "nbconvert_exporter": "python",
   "pygments_lexer": "ipython3",
   "version": "3.6.7"
  }
 },
 "nbformat": 4,
 "nbformat_minor": 2
}

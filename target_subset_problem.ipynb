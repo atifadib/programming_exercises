{
 "cells": [
  {
   "cell_type": "markdown",
   "metadata": {},
   "source": [
    "#### Given a list of integers S and a target number k, write a function that returns a subset of S that adds up to k. If such a subset cannot be made, then return null.\n",
    "\n",
    "##### Integers can appear more than once in the list. You may assume all numbers in the list are positive.\n",
    "\n",
    "##### For example, given S = [12, 1, 61, 5, 9, 2] and k = 24, return [12, 9, 2, 1] since it sums up to 24."
   ]
  },
  {
   "cell_type": "code",
   "execution_count": 57,
   "metadata": {
    "collapsed": true
   },
   "outputs": [],
   "source": [
    "def get_subsets(arr,target,sub):\n",
    "    if sum(sub) + sum(arr) == target:\n",
    "        return [sub+arr]\n",
    "    if not arr:\n",
    "        return []\n",
    "    curr_value = arr[0]\n",
    "    if curr_value > target:\n",
    "        subset = get_subsets(arr[1:],target,sub)\n",
    "        return subset\n",
    "    else:\n",
    "        subset1 = get_subsets(arr[1:],target,sub+[curr_value])\n",
    "        subset2 = get_subsets(arr[1:],target,sub)\n",
    "        out = []\n",
    "        if subset1:\n",
    "            out.extend(subset1)\n",
    "        if subset2:\n",
    "            out.extend(subset2)\n",
    "        return out"
   ]
  },
  {
   "cell_type": "code",
   "execution_count": 59,
   "metadata": {},
   "outputs": [
    {
     "data": {
      "text/plain": [
       "[[12, 1, 9, 2], [24]]"
      ]
     },
     "execution_count": 59,
     "metadata": {},
     "output_type": "execute_result"
    }
   ],
   "source": [
    "get_subsets([12, 1, 61, 5, 9, 2,24],24,[])"
   ]
  },
  {
   "cell_type": "code",
   "execution_count": null,
   "metadata": {
    "collapsed": true
   },
   "outputs": [],
   "source": []
  }
 ],
 "metadata": {
  "kernelspec": {
   "display_name": "Python 3",
   "language": "python",
   "name": "python3"
  },
  "language_info": {
   "codemirror_mode": {
    "name": "ipython",
    "version": 3
   },
   "file_extension": ".py",
   "mimetype": "text/x-python",
   "name": "python",
   "nbconvert_exporter": "python",
   "pygments_lexer": "ipython3",
   "version": "3.6.7"
  }
 },
 "nbformat": 4,
 "nbformat_minor": 2
}

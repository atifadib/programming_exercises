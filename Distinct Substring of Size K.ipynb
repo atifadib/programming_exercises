{
 "cells": [
  {
   "cell_type": "markdown",
   "metadata": {},
   "source": [
    "### Distinct Substring of Size K\n",
    "#### Given an integer k and a string s, find the length of the longest substring that contains at most k distinct characters.\n",
    "\n",
    "#### For example, given s = \"abcba\" and k = 2, the longest substring with k distinct characters is \"bcb\"."
   ]
  },
  {
   "cell_type": "code",
   "execution_count": 44,
   "metadata": {
    "collapsed": true
   },
   "outputs": [],
   "source": [
    "def distinct_substring_size(S,k):\n",
    "    max_total = 0\n",
    "    for i in range(0,len(S)):\n",
    "        total = 0\n",
    "        for j in range(i,len(S)):\n",
    "            distinct_char = len(set(S[i:j]))\n",
    "            if distinct_char==k:\n",
    "                if len(S[i:j])>total:\n",
    "                    total = len(S[i:j])\n",
    "            elif distinct_char > k:\n",
    "                break\n",
    "        if total > max_total:\n",
    "            max_total = total\n",
    "    return max_total"
   ]
  },
  {
   "cell_type": "code",
   "execution_count": 45,
   "metadata": {},
   "outputs": [
    {
     "data": {
      "text/plain": [
       "2"
      ]
     },
     "execution_count": 45,
     "metadata": {},
     "output_type": "execute_result"
    }
   ],
   "source": [
    "distinct_substring_size('abcd',2)"
   ]
  },
  {
   "cell_type": "code",
   "execution_count": null,
   "metadata": {
    "collapsed": true
   },
   "outputs": [],
   "source": []
  },
  {
   "cell_type": "code",
   "execution_count": null,
   "metadata": {
    "collapsed": true
   },
   "outputs": [],
   "source": []
  }
 ],
 "metadata": {
  "kernelspec": {
   "display_name": "Python 3",
   "language": "python",
   "name": "python3"
  },
  "language_info": {
   "codemirror_mode": {
    "name": "ipython",
    "version": 3
   },
   "file_extension": ".py",
   "mimetype": "text/x-python",
   "name": "python",
   "nbconvert_exporter": "python",
   "pygments_lexer": "ipython3",
   "version": "3.6.7"
  }
 },
 "nbformat": 4,
 "nbformat_minor": 2
}

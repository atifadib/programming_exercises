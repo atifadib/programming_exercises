{
 "cells": [
  {
   "cell_type": "markdown",
   "metadata": {},
   "source": [
    "### Given a singly linked list and an integer k, remove the kth last element from the list. k is guaranteed to be smaller than the length of the list.\n",
    "\n",
    "### The list is very long, so making more than one pass is prohibitively expensive.\n",
    "\n",
    "### Do this in constant space and in one pass."
   ]
  },
  {
   "cell_type": "code",
   "execution_count": 1,
   "metadata": {
    "collapsed": true
   },
   "outputs": [],
   "source": [
    "class Linked_List:\n",
    "    def __init__(self,val,next_node):\n",
    "        self.val = val\n",
    "        self.next_node = next_node"
   ]
  },
  {
   "cell_type": "code",
   "execution_count": 28,
   "metadata": {
    "collapsed": true
   },
   "outputs": [],
   "source": [
    "ls = Linked_List(0,None)\n",
    "root = ls\n",
    "for _ in range(1,10):\n",
    "    temp = Linked_List(_,None)\n",
    "    ls.next_node = temp\n",
    "    ls = temp"
   ]
  },
  {
   "cell_type": "code",
   "execution_count": 29,
   "metadata": {},
   "outputs": [],
   "source": [
    "def remove_kth_last_element(root,k):\n",
    "    kth_last_elem = None\n",
    "    length = 0\n",
    "    temp = root\n",
    "    while temp.next_node is not None:\n",
    "        length+=1\n",
    "        if length >=k:\n",
    "            if length == k:\n",
    "                kth_last_elem = root\n",
    "            else:\n",
    "                kth_last_elem = kth_last_elem.next_node\n",
    "        temp = temp.next_node\n",
    "    if k == length:\n",
    "        kth_last_elem.next_node = None\n",
    "    else:\n",
    "        kth_last_elem.next_node = kth_last_elem.next_node.next_node\n",
    "    return root"
   ]
  },
  {
   "cell_type": "code",
   "execution_count": 30,
   "metadata": {},
   "outputs": [
    {
     "name": "stdout",
     "output_type": "stream",
     "text": [
      "0\n",
      "1\n",
      "2\n",
      "3\n",
      "4\n",
      "5\n",
      "6\n",
      "7\n",
      "8\n",
      "9\n"
     ]
    }
   ],
   "source": [
    "t = root\n",
    "while t is not None:\n",
    "    print(t.val)\n",
    "    t = t.next_node"
   ]
  },
  {
   "cell_type": "code",
   "execution_count": 31,
   "metadata": {},
   "outputs": [
    {
     "name": "stdout",
     "output_type": "stream",
     "text": [
      "0\n",
      "1\n",
      "2\n",
      "3\n",
      "4\n",
      "5\n",
      "6\n",
      "7\n",
      "8\n"
     ]
    }
   ],
   "source": [
    "t = root\n",
    "t = remove_kth_last_element(t,1)\n",
    "while t is not None:\n",
    "    print(t.val)\n",
    "    t = t.next_node"
   ]
  },
  {
   "cell_type": "code",
   "execution_count": null,
   "metadata": {
    "collapsed": true
   },
   "outputs": [],
   "source": []
  }
 ],
 "metadata": {
  "kernelspec": {
   "display_name": "Python 3",
   "language": "python",
   "name": "python3"
  },
  "language_info": {
   "codemirror_mode": {
    "name": "ipython",
    "version": 3
   },
   "file_extension": ".py",
   "mimetype": "text/x-python",
   "name": "python",
   "nbconvert_exporter": "python",
   "pygments_lexer": "ipython3",
   "version": "3.6.7"
  }
 },
 "nbformat": 4,
 "nbformat_minor": 2
}

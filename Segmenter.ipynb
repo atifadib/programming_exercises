{
 "cells": [
  {
   "cell_type": "markdown",
   "metadata": {},
   "source": [
    "# SEGMENTER"
   ]
  },
  {
   "cell_type": "code",
   "execution_count": 14,
   "metadata": {
    "collapsed": true
   },
   "outputs": [],
   "source": [
    "def find_sentence(s, dictionary):\n",
    "    starts = {0: ''}\n",
    "    for i in range(len(s) + 1):\n",
    "        new_starts = starts.copy()\n",
    "        for start_index, _ in starts.items():\n",
    "            word = s[start_index:i]\n",
    "            if word in dictionary:\n",
    "                new_starts[i] = word\n",
    "        starts = new_starts.copy()\n",
    "    print(starts)\n",
    "    if len(s) not in starts.keys():\n",
    "        return \"\"\n",
    "    index = len(s)\n",
    "    result = []\n",
    "    while index > 0:\n",
    "        word = starts[index]\n",
    "        index -=len(word)\n",
    "        result.append(word)\n",
    "    return result"
   ]
  },
  {
   "cell_type": "code",
   "execution_count": 21,
   "metadata": {},
   "outputs": [
    {
     "data": {
      "text/plain": [
       "18"
      ]
     },
     "execution_count": 21,
     "metadata": {},
     "output_type": "execute_result"
    }
   ],
   "source": [
    "dic = set(['the', 'quick','quicker', 'brown', 'fox'])\n",
    "sentence = \"thequickerbrownfox\"\n",
    "len(sentence)"
   ]
  },
  {
   "cell_type": "code",
   "execution_count": 22,
   "metadata": {},
   "outputs": [
    {
     "name": "stdout",
     "output_type": "stream",
     "text": [
      "{0: '', 3: 'the', 8: 'quick', 10: 'quicker', 15: 'brown', 18: 'fox'}\n"
     ]
    },
    {
     "data": {
      "text/plain": [
       "['fox', 'brown', 'quicker', 'the']"
      ]
     },
     "execution_count": 22,
     "metadata": {},
     "output_type": "execute_result"
    }
   ],
   "source": [
    "find_sentence(sentence,dic)"
   ]
  },
  {
   "cell_type": "code",
   "execution_count": null,
   "metadata": {
    "collapsed": true
   },
   "outputs": [],
   "source": []
  }
 ],
 "metadata": {
  "kernelspec": {
   "display_name": "Python 3",
   "language": "python",
   "name": "python3"
  },
  "language_info": {
   "codemirror_mode": {
    "name": "ipython",
    "version": 3
   },
   "file_extension": ".py",
   "mimetype": "text/x-python",
   "name": "python",
   "nbconvert_exporter": "python",
   "pygments_lexer": "ipython3",
   "version": "3.6.7"
  }
 },
 "nbformat": 4,
 "nbformat_minor": 2
}

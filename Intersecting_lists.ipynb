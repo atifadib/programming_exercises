{
 "cells": [
  {
   "cell_type": "code",
   "execution_count": 1,
   "metadata": {
    "collapsed": true
   },
   "outputs": [],
   "source": [
    "# Intersection of two lists"
   ]
  },
  {
   "cell_type": "code",
   "execution_count": 14,
   "metadata": {
    "collapsed": true
   },
   "outputs": [],
   "source": [
    "def length(head):\n",
    "    if not head:\n",
    "        return 0\n",
    "    return 1 + length(head.next)\n",
    "\n",
    "def intersection(a, b):\n",
    "    m, n = length(a), length(b)\n",
    "    cur_a, cur_b = a, b\n",
    "\n",
    "    if m > n:\n",
    "        for _ in range(m - n):\n",
    "            cur_a = cur_a.next\n",
    "    else:\n",
    "        for _ in range(n - m):\n",
    "            cur_b = cur_b.next\n",
    "\n",
    "    while cur_a.val != cur_b.val:\n",
    "        cur_a = cur_a.next\n",
    "        cur_b = cur_b.next\n",
    "    return cur_a"
   ]
  },
  {
   "cell_type": "code",
   "execution_count": 15,
   "metadata": {
    "collapsed": true
   },
   "outputs": [],
   "source": [
    "class List:\n",
    "    def __init__(self,val):\n",
    "        self.val = val\n",
    "        self.next = None"
   ]
  },
  {
   "cell_type": "code",
   "execution_count": 16,
   "metadata": {
    "collapsed": true
   },
   "outputs": [],
   "source": [
    "root1 = List(-1)\n",
    "temp = root1\n",
    "for _ in [3,7,8,10]:\n",
    "    new_node = List(_)\n",
    "    temp.next = new_node\n",
    "    temp = new_node\n",
    "root1 = root1.next"
   ]
  },
  {
   "cell_type": "code",
   "execution_count": 17,
   "metadata": {
    "collapsed": true
   },
   "outputs": [],
   "source": [
    "root2 = List(-1)\n",
    "temp = root2\n",
    "for _ in [99,1,8,10]:\n",
    "    new_node = List(_)\n",
    "    temp.next = new_node\n",
    "    temp = new_node\n",
    "root2 = root2.next"
   ]
  },
  {
   "cell_type": "code",
   "execution_count": 19,
   "metadata": {},
   "outputs": [
    {
     "data": {
      "text/plain": [
       "8"
      ]
     },
     "execution_count": 19,
     "metadata": {},
     "output_type": "execute_result"
    }
   ],
   "source": [
    "intersection(root1,root2).val"
   ]
  },
  {
   "cell_type": "code",
   "execution_count": null,
   "metadata": {
    "collapsed": true
   },
   "outputs": [],
   "source": []
  }
 ],
 "metadata": {
  "kernelspec": {
   "display_name": "Python 3",
   "language": "python",
   "name": "python3"
  },
  "language_info": {
   "codemirror_mode": {
    "name": "ipython",
    "version": 3
   },
   "file_extension": ".py",
   "mimetype": "text/x-python",
   "name": "python",
   "nbconvert_exporter": "python",
   "pygments_lexer": "ipython3",
   "version": "3.6.7"
  }
 },
 "nbformat": 4,
 "nbformat_minor": 2
}

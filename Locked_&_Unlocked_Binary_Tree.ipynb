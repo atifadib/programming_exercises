{
 "cells": [
  {
   "cell_type": "code",
   "execution_count": 34,
   "metadata": {
    "collapsed": true
   },
   "outputs": [],
   "source": [
    "class LockingBinTree:\n",
    "    def __init__(self,value,right,left,locked,parent):\n",
    "        self.value = value\n",
    "        self.left = None\n",
    "        self.right = None\n",
    "        self.locked = locked\n",
    "        self.parent = parent\n",
    "        \n",
    "\n",
    "    def isLockedAncestors(self):\n",
    "        if self is None:\n",
    "            return False\n",
    "        isLocked = self.locked\n",
    "        while self.parent is not None:\n",
    "            self = self.parent\n",
    "            isLocked = self.locked or isLocked\n",
    "        return isLocked\n",
    "    \n",
    "    \n",
    "    def isLockedDescendents(self):\n",
    "        if self is None:\n",
    "            return True\n",
    "        else:\n",
    "            if self.left is not None:\n",
    "                left = self.left.isLockedDescendents()\n",
    "            else:\n",
    "                left = False\n",
    "            if self.right is not None:\n",
    "                right = self.right.isLockedDescendents()\n",
    "            else:\n",
    "                right = False\n",
    "            return self.locked or left or right\n",
    "    \n",
    "    def is_locked(self):\n",
    "        return self.locked\n",
    "    \n",
    "    def lock(self):\n",
    "        ancestors = self.isLockedAncestors()\n",
    "        descendents = self.isLockedDescendents()\n",
    "        print('Ancestors Lock:',ancestors)\n",
    "        print('Descendents Lock:',descendents)\n",
    "        if not ancestors and not descendents:\n",
    "            self.locked = True\n",
    "            return True\n",
    "        else:\n",
    "            return False\n",
    "        \n",
    "    def unlock(self):\n",
    "        ancestors = self.isLocked()\n",
    "        descendents = self.isLocked()\n",
    "        print('Ancestors Lock:',ancestors)\n",
    "        print('Descendents Lock:',descendents)\n",
    "        if not ancestors and not descendents:\n",
    "            self.locked = False\n",
    "            return True\n",
    "        else:\n",
    "            return False"
   ]
  },
  {
   "cell_type": "code",
   "execution_count": 35,
   "metadata": {
    "collapsed": true
   },
   "outputs": [],
   "source": [
    "root = LockingBinTree(10,None,None,False,None)"
   ]
  },
  {
   "cell_type": "code",
   "execution_count": 36,
   "metadata": {
    "collapsed": true
   },
   "outputs": [],
   "source": [
    "root.right = LockingBinTree(11,None,None,True,root)"
   ]
  },
  {
   "cell_type": "code",
   "execution_count": 37,
   "metadata": {
    "collapsed": true
   },
   "outputs": [],
   "source": [
    "root.left = LockingBinTree(12,None,None,False,root)"
   ]
  },
  {
   "cell_type": "code",
   "execution_count": 38,
   "metadata": {
    "collapsed": true
   },
   "outputs": [],
   "source": [
    "root.right.right = LockingBinTree(13,None,None,False,root.right)"
   ]
  },
  {
   "cell_type": "code",
   "execution_count": 39,
   "metadata": {
    "collapsed": true
   },
   "outputs": [],
   "source": [
    "root.left.left = LockingBinTree(14,None,None,True,root.left)"
   ]
  },
  {
   "cell_type": "code",
   "execution_count": 40,
   "metadata": {
    "collapsed": true
   },
   "outputs": [],
   "source": [
    "root.left.right = LockingBinTree(15,None,None,False,root.left)"
   ]
  },
  {
   "cell_type": "code",
   "execution_count": 41,
   "metadata": {},
   "outputs": [
    {
     "name": "stdout",
     "output_type": "stream",
     "text": [
      "Ancestors Lock: True\n",
      "Descendents Lock: False\n"
     ]
    },
    {
     "data": {
      "text/plain": [
       "False"
      ]
     },
     "execution_count": 41,
     "metadata": {},
     "output_type": "execute_result"
    }
   ],
   "source": [
    "root.right.right.lock()"
   ]
  },
  {
   "cell_type": "code",
   "execution_count": null,
   "metadata": {
    "collapsed": true
   },
   "outputs": [],
   "source": []
  }
 ],
 "metadata": {
  "kernelspec": {
   "display_name": "Python 3",
   "language": "python",
   "name": "python3"
  },
  "language_info": {
   "codemirror_mode": {
    "name": "ipython",
    "version": 3
   },
   "file_extension": ".py",
   "mimetype": "text/x-python",
   "name": "python",
   "nbconvert_exporter": "python",
   "pygments_lexer": "ipython3",
   "version": "3.6.7"
  }
 },
 "nbformat": 4,
 "nbformat_minor": 2
}

{
 "cells": [
  {
   "cell_type": "markdown",
   "metadata": {},
   "source": [
    "### Rolling Max\n",
    "#### Given an array of integers and a number k, where 1 <= k <= length of the array, compute the maximum values of each subarray of length k.\n",
    "\n",
    "#### For example, given array = [10, 5, 2, 7, 8, 7] and k = 3, we should get: [10, 7, 8, 8], since:\n",
    "\n",
    "#### 10 = max(10, 5, 2)\n",
    "#### 7 = max(5, 2, 7)\n",
    "#### 8 = max(2, 7, 8)\n",
    "#### 8 = max(7, 8, 7)\n",
    "#### Do this in O(n) time and O(k) space. You can modify the input array in-place and you do #### not need to store the results. You can simply print them out as you compute them."
   ]
  },
  {
   "cell_type": "code",
   "execution_count": 27,
   "metadata": {
    "collapsed": true
   },
   "outputs": [],
   "source": [
    "#Brute Force:\n",
    "def rolling_max(arr:list,k:int=1) -> list:\n",
    "    for index in range(0,len(arr)):\n",
    "        if index+k > len(arr):\n",
    "            break\n",
    "        else:\n",
    "            max_value = max(arr[index:index+k])\n",
    "            #rolling_arr.append(max_value)\n",
    "            print(max_value,end=',')"
   ]
  },
  {
   "cell_type": "code",
   "execution_count": 28,
   "metadata": {},
   "outputs": [
    {
     "name": "stdout",
     "output_type": "stream",
     "text": [
      "10,7,8,8,"
     ]
    }
   ],
   "source": [
    "rolling_max([10, 5, 2, 7, 8, 7],k=3)"
   ]
  },
  {
   "cell_type": "code",
   "execution_count": 29,
   "metadata": {
    "collapsed": true
   },
   "outputs": [],
   "source": [
    "#Optimized:\n",
    "def rolling_max_opt(arr:list,k:int=1) -> list:\n",
    "    curr_max,curr_max_index = -1,-1\n",
    "    for index in range(0,len(arr)):\n",
    "        if index+k > len(arr):\n",
    "            break\n",
    "        else:\n",
    "            if index <= curr_max_index < index+k:\n",
    "                if arr[index+k-1] < curr_max:\n",
    "                    print(curr_max,end=',')\n",
    "                else:\n",
    "                    curr_max = arr[index+k-1]\n",
    "                    curr_max_index = index+k-1\n",
    "                    print(curr_max,end=',')\n",
    "            else:\n",
    "                curr_max = max(arr[index:index+k])\n",
    "                curr_max_index = arr.index(curr_max)\n",
    "                print(curr_max,end=',')"
   ]
  },
  {
   "cell_type": "code",
   "execution_count": 30,
   "metadata": {},
   "outputs": [
    {
     "name": "stdout",
     "output_type": "stream",
     "text": [
      "10,7,8,8,"
     ]
    }
   ],
   "source": [
    "rolling_max_opt([10, 5, 2, 7, 8, 7],k=3)"
   ]
  },
  {
   "cell_type": "code",
   "execution_count": 25,
   "metadata": {},
   "outputs": [
    {
     "name": "stdout",
     "output_type": "stream",
     "text": [
      "2.06 µs ± 29.4 ns per loop (mean ± std. dev. of 7 runs, 100000 loops each)\n"
     ]
    }
   ],
   "source": [
    "%timeit rolling_max_opt([10, 5, 2, 7, 8, 7],k=3)"
   ]
  },
  {
   "cell_type": "code",
   "execution_count": 26,
   "metadata": {},
   "outputs": [
    {
     "name": "stdout",
     "output_type": "stream",
     "text": [
      "1.95 µs ± 30.9 ns per loop (mean ± std. dev. of 7 runs, 100000 loops each)\n"
     ]
    }
   ],
   "source": [
    "%timeit rolling_max([10, 5, 2, 7, 8, 7],k=3)"
   ]
  },
  {
   "cell_type": "code",
   "execution_count": null,
   "metadata": {
    "collapsed": true
   },
   "outputs": [],
   "source": []
  }
 ],
 "metadata": {
  "kernelspec": {
   "display_name": "Python 3",
   "language": "python",
   "name": "python3"
  },
  "language_info": {
   "codemirror_mode": {
    "name": "ipython",
    "version": 3
   },
   "file_extension": ".py",
   "mimetype": "text/x-python",
   "name": "python",
   "nbconvert_exporter": "python",
   "pygments_lexer": "ipython3",
   "version": "3.6.7"
  }
 },
 "nbformat": 4,
 "nbformat_minor": 2
}

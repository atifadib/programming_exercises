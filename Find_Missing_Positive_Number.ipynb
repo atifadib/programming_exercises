{
 "cells": [
  {
   "cell_type": "markdown",
   "metadata": {},
   "source": [
    "# Find the Missing Positive Number\n",
    "### Given an array of integers, find the first missing positive integer in linear time and constant space. In other words, find the lowest positive integer that does not exist in the array. The array can contain duplicates and negative numbers as well.\n",
    "\n",
    "### For example, the input [3, 4, -1, 1] should give 2. The input [1, 2, 0] should give 3."
   ]
  },
  {
   "cell_type": "code",
   "execution_count": 3,
   "metadata": {
    "collapsed": true
   },
   "outputs": [],
   "source": [
    "#O(N) Time & O(N) Space\n",
    "def find(arr):\n",
    "    max_value = -1\n",
    "    hash_table = dict()\n",
    "    for _ in arr:\n",
    "        if _ > 0:\n",
    "            hash_table[_]=None\n",
    "            if _ > max_value:\n",
    "                max_value = _\n",
    "    if hash_table == {}:\n",
    "        return 1\n",
    "    for _ in range(1,max_value+1):\n",
    "        if _ not in hash_table.keys():\n",
    "            return _\n",
    "    else:\n",
    "        return max_value+1        "
   ]
  },
  {
   "cell_type": "code",
   "execution_count": 7,
   "metadata": {
    "collapsed": true
   },
   "outputs": [],
   "source": [
    "#O(N) Time & O(1) Space\n",
    "def find_new(nums):\n",
    "        start, end = 0, len(nums)\n",
    "        while start < end:\n",
    "            print(nums)\n",
    "            if nums[start] == start+1:\n",
    "                start += 1\n",
    "            elif nums[start] <= end and nums[start] > 0 and nums[start] != nums[nums[start] - 1]:\n",
    "                nums[nums[start] - 1], nums[start] = nums[start], nums[nums[start] - 1]\n",
    "            elif nums[start] <= 0 or nums[start] > end or nums[start] == nums[nums[start] - 1]:\n",
    "                end -= 1\n",
    "                nums[start], nums[end] = nums[end], nums[start]\n",
    "            #print(nums,start,end)\n",
    "        return end+1"
   ]
  },
  {
   "cell_type": "code",
   "execution_count": 8,
   "metadata": {},
   "outputs": [
    {
     "data": {
      "text/plain": [
       "2"
      ]
     },
     "execution_count": 8,
     "metadata": {},
     "output_type": "execute_result"
    }
   ],
   "source": [
    "find([-3, 12, -22, 1, -54, -81, 40, -37, 60, -29])"
   ]
  },
  {
   "cell_type": "code",
   "execution_count": 9,
   "metadata": {},
   "outputs": [
    {
     "name": "stdout",
     "output_type": "stream",
     "text": [
      "[-1, 0, 1, 2, 3, 5]\n",
      "[5, 0, 1, 2, 3, -1]\n",
      "[3, 0, 1, 2, 5, -1]\n",
      "[1, 0, 3, 2, 5, -1]\n",
      "[1, 0, 3, 2, 5, -1]\n",
      "[1, 5, 3, 2, 0, -1]\n",
      "[1, 2, 3, 5, 0, -1]\n",
      "[1, 2, 3, 5, 0, -1]\n"
     ]
    },
    {
     "data": {
      "text/plain": [
       "4"
      ]
     },
     "execution_count": 9,
     "metadata": {},
     "output_type": "execute_result"
    }
   ],
   "source": [
    "find_new([-1,0,1,2,3,5])"
   ]
  },
  {
   "cell_type": "code",
   "execution_count": 7,
   "metadata": {},
   "outputs": [
    {
     "data": {
      "text/plain": [
       "1"
      ]
     },
     "execution_count": 7,
     "metadata": {},
     "output_type": "execute_result"
    }
   ],
   "source": [
    "find_swap([-3, 12, -22, -54, -81, 40, -37, 60, -29])"
   ]
  },
  {
   "cell_type": "code",
   "execution_count": 19,
   "metadata": {
    "collapsed": true
   },
   "outputs": [],
   "source": [
    "import random\n",
    "from tqdm import tqdm\n",
    "def get_result(sample):\n",
    "    out = set(sample)\n",
    "    for i in range(1,len(out)):\n",
    "        if i not in out:\n",
    "            return i\n",
    "    return len(out)+1\n",
    "\n",
    "for _ in range(100):\n",
    "    sample = random.sample(range(-100,100),10)\n",
    "    try:\n",
    "        assert get_result(sample) == find_new(sample)\n",
    "    except AssertionError:\n",
    "        print(get_result(sample),find_new(sample))\n",
    "        print(\"Error\")"
   ]
  },
  {
   "cell_type": "code",
   "execution_count": null,
   "metadata": {
    "collapsed": true
   },
   "outputs": [],
   "source": []
  }
 ],
 "metadata": {
  "kernelspec": {
   "display_name": "Python 3",
   "language": "python",
   "name": "python3"
  },
  "language_info": {
   "codemirror_mode": {
    "name": "ipython",
    "version": 3
   },
   "file_extension": ".py",
   "mimetype": "text/x-python",
   "name": "python",
   "nbconvert_exporter": "python",
   "pygments_lexer": "ipython3",
   "version": "3.6.7"
  }
 },
 "nbformat": 4,
 "nbformat_minor": 2
}

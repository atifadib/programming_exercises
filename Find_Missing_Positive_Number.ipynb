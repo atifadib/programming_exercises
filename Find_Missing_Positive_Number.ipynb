{
 "cells": [
  {
   "cell_type": "markdown",
   "metadata": {},
   "source": [
    "# Find the Missing Positive Number\n",
    "### Given an array of integers, find the first missing positive integer in linear time and constant space. In other words, find the lowest positive integer that does not exist in the array. The array can contain duplicates and negative numbers as well.\n",
    "\n",
    "### For example, the input [3, 4, -1, 1] should give 2. The input [1, 2, 0] should give 3."
   ]
  },
  {
   "cell_type": "code",
   "execution_count": 3,
   "metadata": {
    "collapsed": true
   },
   "outputs": [],
   "source": [
    "#O(N) Time & O(N) Space\n",
    "def find(arr):\n",
    "    max_value = -1\n",
    "    hash_table = dict()\n",
    "    for _ in arr:\n",
    "        if _ > 0:\n",
    "            hash_table[_]=None\n",
    "            if _ > max_value:\n",
    "                max_value = _\n",
    "    if hash_table == {}:\n",
    "        return 1\n",
    "    for _ in range(1,max_value+1):\n",
    "        if _ not in hash_table.keys():\n",
    "            return _\n",
    "    else:\n",
    "        return max_value+1        "
   ]
  },
  {
   "cell_type": "code",
   "execution_count": 3,
   "metadata": {
    "collapsed": true
   },
   "outputs": [],
   "source": [
    "#O(N) Time & O(1) Space\n",
    "def find_new(nums):\n",
    "        start, end = 0, len(nums)\n",
    "        while start < end:\n",
    "            if nums[start] == start+1:\n",
    "                start += 1\n",
    "            elif nums[start] <= end and nums[start] > 0 and nums[start] != nums[nums[start] - 1]:\n",
    "                nums[nums[start] - 1], nums[start] = nums[start], nums[nums[start] - 1]\n",
    "            elif nums[start] <= 0 or nums[start] > end or nums[start] == nums[nums[start] - 1]:\n",
    "                end -= 1\n",
    "                nums[start], nums[end] = nums[end], nums[start]\n",
    "            print(nums,start,end)\n",
    "        return end+1"
   ]
  },
  {
   "cell_type": "code",
   "execution_count": 4,
   "metadata": {},
   "outputs": [
    {
     "ename": "NameError",
     "evalue": "name 'find' is not defined",
     "output_type": "error",
     "traceback": [
      "\u001b[0;31m---------------------------------------------------------------------------\u001b[0m",
      "\u001b[0;31mNameError\u001b[0m                                 Traceback (most recent call last)",
      "\u001b[0;32m<ipython-input-4-1aa677fdcb70>\u001b[0m in \u001b[0;36m<module>\u001b[0;34m()\u001b[0m\n\u001b[0;32m----> 1\u001b[0;31m \u001b[0mfind\u001b[0m\u001b[0;34m(\u001b[0m\u001b[0;34m[\u001b[0m\u001b[0;34m-\u001b[0m\u001b[0;36m3\u001b[0m\u001b[0;34m,\u001b[0m \u001b[0;36m12\u001b[0m\u001b[0;34m,\u001b[0m \u001b[0;34m-\u001b[0m\u001b[0;36m22\u001b[0m\u001b[0;34m,\u001b[0m \u001b[0;36m1\u001b[0m\u001b[0;34m,\u001b[0m \u001b[0;34m-\u001b[0m\u001b[0;36m54\u001b[0m\u001b[0;34m,\u001b[0m \u001b[0;34m-\u001b[0m\u001b[0;36m81\u001b[0m\u001b[0;34m,\u001b[0m \u001b[0;36m40\u001b[0m\u001b[0;34m,\u001b[0m \u001b[0;34m-\u001b[0m\u001b[0;36m37\u001b[0m\u001b[0;34m,\u001b[0m \u001b[0;36m60\u001b[0m\u001b[0;34m,\u001b[0m \u001b[0;34m-\u001b[0m\u001b[0;36m29\u001b[0m\u001b[0;34m]\u001b[0m\u001b[0;34m)\u001b[0m\u001b[0;34m\u001b[0m\u001b[0;34m\u001b[0m\u001b[0m\n\u001b[0m",
      "\u001b[0;31mNameError\u001b[0m: name 'find' is not defined"
     ]
    }
   ],
   "source": [
    "find([-3, 12, -22, 1, -54, -81, 40, -37, 60, -29])"
   ]
  },
  {
   "cell_type": "code",
   "execution_count": 5,
   "metadata": {},
   "outputs": [
    {
     "name": "stdout",
     "output_type": "stream",
     "text": [
      "[-29, 12, -22, -54, -81, 40, -37, 60, -3] 0 8\n",
      "[60, 12, -22, -54, -81, 40, -37, -29, -3] 0 7\n",
      "[-37, 12, -22, -54, -81, 40, 60, -29, -3] 0 6\n",
      "[40, 12, -22, -54, -81, -37, 60, -29, -3] 0 5\n",
      "[-81, 12, -22, -54, 40, -37, 60, -29, -3] 0 4\n",
      "[-54, 12, -22, -81, 40, -37, 60, -29, -3] 0 3\n",
      "[-22, 12, -54, -81, 40, -37, 60, -29, -3] 0 2\n",
      "[12, -22, -54, -81, 40, -37, 60, -29, -3] 0 1\n",
      "[12, -22, -54, -81, 40, -37, 60, -29, -3] 0 0\n"
     ]
    },
    {
     "data": {
      "text/plain": [
       "1"
      ]
     },
     "execution_count": 5,
     "metadata": {},
     "output_type": "execute_result"
    }
   ],
   "source": [
    "find_new([-3, 12, -22, -54, -81, 40, -37, 60, -29])"
   ]
  },
  {
   "cell_type": "code",
   "execution_count": 105,
   "metadata": {},
   "outputs": [
    {
     "name": "stderr",
     "output_type": "stream",
     "text": [
      "100%|██████████| 100/100 [00:00<00:00, 21551.25it/s]\n"
     ]
    }
   ],
   "source": [
    "import random\n",
    "from tqdm import tqdm\n",
    "for _ in tqdm(range(100)):\n",
    "    sample = random.sample(range(-100,100),10)\n",
    "    out = list(sorted(filter(lambda x:x > 0,sample)))\n",
    "    if out == []:\n",
    "        result = 1\n",
    "    else:\n",
    "        for _ in range(1,max(out)+1):\n",
    "            if _ not in out:\n",
    "                result = _\n",
    "                break\n",
    "        else:\n",
    "            result = max(out)+1\n",
    "    try:\n",
    "        assert result == find(sample)\n",
    "        assert result == find_new(sample)\n",
    "    except AssertionError:\n",
    "        print(\"Error\")"
   ]
  },
  {
   "cell_type": "code",
   "execution_count": null,
   "metadata": {
    "collapsed": true
   },
   "outputs": [],
   "source": []
  }
 ],
 "metadata": {
  "kernelspec": {
   "display_name": "Python 3",
   "language": "python",
   "name": "python3"
  },
  "language_info": {
   "codemirror_mode": {
    "name": "ipython",
    "version": 3
   },
   "file_extension": ".py",
   "mimetype": "text/x-python",
   "name": "python",
   "nbconvert_exporter": "python",
   "pygments_lexer": "ipython3",
   "version": "3.6.7"
  }
 },
 "nbformat": 4,
 "nbformat_minor": 2
}

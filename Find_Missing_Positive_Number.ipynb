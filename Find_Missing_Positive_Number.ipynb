{
 "cells": [
  {
   "cell_type": "markdown",
   "metadata": {},
   "source": [
    "# Find the Missing Positive Number\n",
    "### Given an array of integers, find the first missing positive integer in linear time and constant space. In other words, find the lowest positive integer that does not exist in the array. The array can contain duplicates and negative numbers as well.\n",
    "\n",
    "### For example, the input [3, 4, -1, 1] should give 2. The input [1, 2, 0] should give 3."
   ]
  },
  {
   "cell_type": "code",
   "execution_count": 53,
   "metadata": {
    "collapsed": true
   },
   "outputs": [],
   "source": [
    "def find(arr):\n",
    "    max_value = -1\n",
    "    hash_table = dict()\n",
    "    for _ in arr:\n",
    "        if _ > 0:\n",
    "            hash_table[_]=None\n",
    "            if _ > max_value:\n",
    "                max_value = _\n",
    "    if hash_table == {}:\n",
    "        return 1\n",
    "    for _ in range(1,max_value+1):\n",
    "        if _ not in hash_table.keys():\n",
    "            return _\n",
    "    else:\n",
    "        return max_value+1        "
   ]
  },
  {
   "cell_type": "code",
   "execution_count": 54,
   "metadata": {},
   "outputs": [
    {
     "data": {
      "text/plain": [
       "2"
      ]
     },
     "execution_count": 54,
     "metadata": {},
     "output_type": "execute_result"
    }
   ],
   "source": [
    "find([-3, 12, -22, 1, -54, -81, 40, -37, 60, -29])"
   ]
  },
  {
   "cell_type": "code",
   "execution_count": 48,
   "metadata": {},
   "outputs": [
    {
     "name": "stderr",
     "output_type": "stream",
     "text": [
      "100%|██████████| 100000/100000 [00:01<00:00, 69654.90it/s]\n"
     ]
    }
   ],
   "source": [
    "import random\n",
    "from tqdm import tqdm\n",
    "for _ in tqdm(range(100000)):\n",
    "    sample = random.sample(range(-100,100),10)\n",
    "    out = list(sorted(filter(lambda x:x > 0,sample)))\n",
    "    if out == []:\n",
    "        result = 1\n",
    "    else:\n",
    "        for _ in range(1,max(out)+1):\n",
    "            if _ not in out:\n",
    "                result = _\n",
    "                break\n",
    "        else:\n",
    "            result = max(out)+1\n",
    "    try:\n",
    "        assert result == find(sample)\n",
    "    except AssertionError:\n",
    "        print(result,sample,find(sample))"
   ]
  },
  {
   "cell_type": "code",
   "execution_count": null,
   "metadata": {
    "collapsed": true
   },
   "outputs": [],
   "source": []
  }
 ],
 "metadata": {
  "kernelspec": {
   "display_name": "Python 3",
   "language": "python",
   "name": "python3"
  },
  "language_info": {
   "codemirror_mode": {
    "name": "ipython",
    "version": 3
   },
   "file_extension": ".py",
   "mimetype": "text/x-python",
   "name": "python",
   "nbconvert_exporter": "python",
   "pygments_lexer": "ipython3",
   "version": "3.6.7"
  }
 },
 "nbformat": 4,
 "nbformat_minor": 2
}

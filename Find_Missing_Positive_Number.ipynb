{
 "cells": [
  {
   "cell_type": "markdown",
   "metadata": {},
   "source": [
    "# Find the Missing Positive Number\n",
    "### Given an array of integers, find the first missing positive integer in linear time and constant space. In other words, find the lowest positive integer that does not exist in the array. The array can contain duplicates and negative numbers as well.\n",
    "\n",
    "### For example, the input [3, 4, -1, 1] should give 2. The input [1, 2, 0] should give 3."
   ]
  },
  {
   "cell_type": "code",
   "execution_count": 7,
   "metadata": {
    "collapsed": true
   },
   "outputs": [],
   "source": [
    "#O(N) Time & O(N) Space\n",
    "def find(arr):\n",
    "    max_value = -1\n",
    "    hash_table = dict()\n",
    "    for _ in arr:\n",
    "        if _ > 0:\n",
    "            hash_table[_]=None\n",
    "            if _ > max_value:\n",
    "                max_value = _\n",
    "    if hash_table == {}:\n",
    "        return 1\n",
    "    for _ in range(1,max_value+1):\n",
    "        if _ not in hash_table.keys():\n",
    "            return _\n",
    "    else:\n",
    "        return max_value+1        "
   ]
  },
  {
   "cell_type": "code",
   "execution_count": 8,
   "metadata": {
    "collapsed": true
   },
   "outputs": [],
   "source": [
    "#O(N) Time & O(1) Space\n",
    "def find_new(nums):\n",
    "        start, end = 0, len(nums)\n",
    "        while start < end:\n",
    "            if nums[start] == start+1:\n",
    "                start += 1\n",
    "            elif nums[start] <= end and nums[start] > 0 and nums[start] != nums[nums[start] - 1]:\n",
    "                nums[nums[start] - 1], nums[start] = nums[start], nums[nums[start] - 1]\n",
    "            elif nums[start] <= 0 or nums[start] > end or nums[start] == nums[nums[start] - 1]:\n",
    "                end -= 1\n",
    "                nums[start], nums[end] = nums[end], nums[start]\n",
    "            #print(nums,start,end)\n",
    "        return end+1"
   ]
  },
  {
   "cell_type": "code",
   "execution_count": 55,
   "metadata": {
    "collapsed": true
   },
   "outputs": [],
   "source": [
    "def find_swap(nums):\n",
    "    if not nums:\n",
    "        return 1\n",
    "    for index,value in enumerate(nums):\n",
    "        while index < len(nums) and nums[index-1]!=index:\n",
    "            curr_val = nums[index]\n",
    "            if 0 < curr_val <len(nums):\n",
    "                nums[curr_val-1],nums[index] = curr_val,nums[curr_val]\n",
    "            index+=1\n",
    "    for index,value in enumerate(nums,1):\n",
    "        if index!=value:\n",
    "            return index\n",
    "    return len(nums)+1\n",
    "        "
   ]
  },
  {
   "cell_type": "code",
   "execution_count": 56,
   "metadata": {},
   "outputs": [
    {
     "data": {
      "text/plain": [
       "2"
      ]
     },
     "execution_count": 56,
     "metadata": {},
     "output_type": "execute_result"
    }
   ],
   "source": [
    "find([-3, 12, -22, 1, -54, -81, 40, -37, 60, -29])"
   ]
  },
  {
   "cell_type": "code",
   "execution_count": 57,
   "metadata": {},
   "outputs": [
    {
     "data": {
      "text/plain": [
       "1"
      ]
     },
     "execution_count": 57,
     "metadata": {},
     "output_type": "execute_result"
    }
   ],
   "source": [
    "find_new([-3, 12, -22, -54, -81, 40, -37, 60, -29])"
   ]
  },
  {
   "cell_type": "code",
   "execution_count": 58,
   "metadata": {},
   "outputs": [
    {
     "data": {
      "text/plain": [
       "1"
      ]
     },
     "execution_count": 58,
     "metadata": {},
     "output_type": "execute_result"
    }
   ],
   "source": [
    "find_swap([-3, 12, -22, -54, -81, 40, -37, 60, -29])"
   ]
  },
  {
   "cell_type": "code",
   "execution_count": 114,
   "metadata": {},
   "outputs": [],
   "source": [
    "import random\n",
    "from tqdm import tqdm\n",
    "def get_result(sample):\n",
    "    out = set(sample)\n",
    "    for i in range(1,len(out)):\n",
    "        if i not in out:\n",
    "            return i\n",
    "    return len(out)+1\n",
    "\n",
    "for _ in range(100):\n",
    "    sample = random.sample(range(-100,100),10)\n",
    "    try:\n",
    "        assert get_result(sample) == find_swap(sample)\n",
    "    except AssertionError:\n",
    "        print(get_result(sample),find_swap(sample))\n",
    "        print(\"Error\")"
   ]
  },
  {
   "cell_type": "code",
   "execution_count": null,
   "metadata": {
    "collapsed": true
   },
   "outputs": [],
   "source": []
  }
 ],
 "metadata": {
  "kernelspec": {
   "display_name": "Python 3",
   "language": "python",
   "name": "python3"
  },
  "language_info": {
   "codemirror_mode": {
    "name": "ipython",
    "version": 3
   },
   "file_extension": ".py",
   "mimetype": "text/x-python",
   "name": "python",
   "nbconvert_exporter": "python",
   "pygments_lexer": "ipython3",
   "version": "3.6.7"
  }
 },
 "nbformat": 4,
 "nbformat_minor": 2
}

{
 "cells": [
  {
   "cell_type": "markdown",
   "metadata": {},
   "source": [
    "### Unival Tree\n",
    "#### A unival tree (which stands for \"universal value\") is a tree where all nodes under it have the same value.\n",
    "\n",
    "#### Given the root to a binary tree, count the number of unival subtrees.\n",
    "\n",
    "#### For example, the following tree has 5 unival subtrees:\n",
    "\n",
    "#####   0\n",
    "#####   / \\\n",
    "#####  1   0\n",
    "#####     / \\\n",
    "#####    1   0\n",
    "#####  / \\\n",
    "#####  1   1\n"
   ]
  },
  {
   "cell_type": "code",
   "execution_count": 1,
   "metadata": {
    "collapsed": true
   },
   "outputs": [],
   "source": [
    "class Node:\n",
    "    def __init__(self,value,left=None,right=None):\n",
    "        self.value = value\n",
    "        self.left = left\n",
    "        self.right = right"
   ]
  },
  {
   "cell_type": "code",
   "execution_count": 10,
   "metadata": {
    "collapsed": true
   },
   "outputs": [],
   "source": [
    "root = Node(5) \n",
    "root.left = Node(4) \n",
    "root.right = Node(5) \n",
    "root.left.left = Node(4) \n",
    "root.left.right = Node(4) \n",
    "root.right.right = Node(5)"
   ]
  },
  {
   "cell_type": "code",
   "execution_count": 11,
   "metadata": {},
   "outputs": [],
   "source": [
    "def is_unival(root):\n",
    "    return unival_helper(root, root.value)\n",
    "\n",
    "def unival_helper(root, value):\n",
    "    if root is None:\n",
    "        return True\n",
    "    if root.value == value:\n",
    "        return unival_helper(root.left, value) and unival_helper(root.right, value)\n",
    "    return False"
   ]
  },
  {
   "cell_type": "code",
   "execution_count": 12,
   "metadata": {
    "collapsed": true
   },
   "outputs": [],
   "source": [
    "def count_unival_subtrees(root):\n",
    "    if root is None:\n",
    "        return 0\n",
    "    left = count_unival_subtrees(root.left)\n",
    "    right = count_unival_subtrees(root.right)\n",
    "    return 1 + left + right if is_unival(root) else left + right"
   ]
  },
  {
   "cell_type": "code",
   "execution_count": 13,
   "metadata": {},
   "outputs": [
    {
     "data": {
      "text/plain": [
       "0"
      ]
     },
     "execution_count": 13,
     "metadata": {},
     "output_type": "execute_result"
    }
   ],
   "source": [
    "count_unival_tree(root)"
   ]
  },
  {
   "cell_type": "code",
   "execution_count": null,
   "metadata": {
    "collapsed": true
   },
   "outputs": [],
   "source": []
  }
 ],
 "metadata": {
  "kernelspec": {
   "display_name": "Python 3",
   "language": "python",
   "name": "python3"
  },
  "language_info": {
   "codemirror_mode": {
    "name": "ipython",
    "version": 3
   },
   "file_extension": ".py",
   "mimetype": "text/x-python",
   "name": "python",
   "nbconvert_exporter": "python",
   "pygments_lexer": "ipython3",
   "version": "3.6.7"
  }
 },
 "nbformat": 4,
 "nbformat_minor": 2
}

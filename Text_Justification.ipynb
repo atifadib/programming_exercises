{
 "cells": [
  {
   "cell_type": "code",
   "execution_count": 75,
   "metadata": {
    "collapsed": true
   },
   "outputs": [],
   "source": [
    "def addSpace(line,maxWidth):\n",
    "    if not line:\n",
    "        return \"\"\n",
    "    space = maxWidth - len(\"\".join(line))\n",
    "    if space == 0:\n",
    "        return \"\".join(line)\n",
    "    elif len(line)==1:\n",
    "        line.extend([\" \"]*space)\n",
    "        return \"\".join(line)\n",
    "    index = 0\n",
    "    while space > 0:\n",
    "        #print(index,space,line)\n",
    "        line[index] = line[index]+\" \"\n",
    "        index+=2\n",
    "        index%=(len(line)-1)\n",
    "        space-=1\n",
    "    return \"\".join(line)\n",
    "\n",
    "def justify(text,maxWidth):\n",
    "    if not text:\n",
    "        return \"\"\n",
    "    lines = []\n",
    "    new_line = [text[0]]\n",
    "    for word in text[1:]:\n",
    "        new_line.extend([\" \",word])\n",
    "        if len(\"\".join(new_line)) > maxWidth:\n",
    "            lines.append(addSpace(new_line[:-2],maxWidth))\n",
    "            new_line = [new_line[-1]]\n",
    "        #print(lines)\n",
    "    if new_line:\n",
    "        lines.append(addSpace(new_line,maxWidth))\n",
    "    return lines"
   ]
  },
  {
   "cell_type": "code",
   "execution_count": 76,
   "metadata": {},
   "outputs": [
    {
     "name": "stdout",
     "output_type": "stream",
     "text": [
      "['the  quick brown', 'fox  jumps  over', 'the   lazy   dog']\n"
     ]
    }
   ],
   "source": [
    "text = [\"the\", \"quick\", \"brown\", \"fox\", \"jumps\", \"over\", \"the\", \"lazy\", \"dog\"]\n",
    "w = 16\n",
    "inp = justify(text,w)\n",
    "print(inp)\n",
    "out = [\"the  quick brown\", # 1 extra space on the left\n",
    "\"fox  jumps  over\", # 2 extra spaces distributed evenly\n",
    "\"the   lazy   dog\"] # 4 extra spaces distributed evenly\n",
    "assert out == inp"
   ]
  },
  {
   "cell_type": "code",
   "execution_count": 78,
   "metadata": {
    "collapsed": true
   },
   "outputs": [],
   "source": [
    "def addSpace(line,maxWidth,last=False):\n",
    "    if not line:\n",
    "        return \"\"\n",
    "    space = maxWidth - len(\"\".join(line))\n",
    "    if space == 0:\n",
    "        return \"\".join(line)\n",
    "    elif len(line)==1 or last:\n",
    "        line.extend([\" \"]*space)\n",
    "        return \"\".join(line)\n",
    "    index = 0\n",
    "    while space > 0:\n",
    "        #print(index,space,line)\n",
    "        line[index] = line[index]+\" \"\n",
    "        index+=2\n",
    "        index%=(len(line)-1)\n",
    "        space-=1\n",
    "    return \"\".join(line)\n",
    "\n",
    "def justify(text,maxWidth):\n",
    "    if not text:\n",
    "        return \"\"\n",
    "    lines = []\n",
    "    new_line = [text[0]]\n",
    "    for word in text[1:]:\n",
    "        new_line.extend([\" \",word])\n",
    "        if len(\"\".join(new_line)) > maxWidth:\n",
    "            lines.append(addSpace(new_line[:-2],maxWidth))\n",
    "            new_line = [new_line[-1]]\n",
    "        #print(lines)\n",
    "    if new_line:\n",
    "        lines.append(addSpace(new_line,maxWidth,last = True))\n",
    "    return lines"
   ]
  },
  {
   "cell_type": "code",
   "execution_count": 79,
   "metadata": {},
   "outputs": [
    {
     "name": "stdout",
     "output_type": "stream",
     "text": [
      "['the  quick brown', 'fox  jumps  over', 'the lazy dog    ']\n"
     ]
    },
    {
     "ename": "AssertionError",
     "evalue": "",
     "output_type": "error",
     "traceback": [
      "\u001b[0;31m---------------------------------------------------------------------------\u001b[0m",
      "\u001b[0;31mAssertionError\u001b[0m                            Traceback (most recent call last)",
      "\u001b[0;32m<ipython-input-79-f5ac3170c4b6>\u001b[0m in \u001b[0;36m<module>\u001b[0;34m()\u001b[0m\n\u001b[1;32m      6\u001b[0m \u001b[0;34m\"fox  jumps  over\"\u001b[0m\u001b[0;34m,\u001b[0m \u001b[0;31m# 2 extra spaces distributed evenly\u001b[0m\u001b[0;34m\u001b[0m\u001b[0;34m\u001b[0m\u001b[0m\n\u001b[1;32m      7\u001b[0m \"the   lazy   dog\"] # 4 extra spaces distributed evenly\n\u001b[0;32m----> 8\u001b[0;31m \u001b[0;32massert\u001b[0m \u001b[0mout\u001b[0m \u001b[0;34m==\u001b[0m \u001b[0minp\u001b[0m\u001b[0;34m\u001b[0m\u001b[0;34m\u001b[0m\u001b[0m\n\u001b[0m",
      "\u001b[0;31mAssertionError\u001b[0m: "
     ]
    }
   ],
   "source": [
    "text = [\"the\", \"quick\", \"brown\", \"fox\", \"jumps\", \"over\", \"the\", \"lazy\", \"dog\"]\n",
    "w = 16\n",
    "inp = justify(text,w)\n",
    "print(inp)\n",
    "out = [\"the  quick brown\", # 1 extra space on the left\n",
    "\"fox  jumps  over\", # 2 extra spaces distributed evenly\n",
    "\"the   lazy   dog\"] # 4 extra spaces distributed evenly\n",
    "assert out == inp"
   ]
  },
  {
   "cell_type": "code",
   "execution_count": null,
   "metadata": {
    "collapsed": true
   },
   "outputs": [],
   "source": []
  }
 ],
 "metadata": {
  "kernelspec": {
   "display_name": "Python 3",
   "language": "python",
   "name": "python3"
  },
  "language_info": {
   "codemirror_mode": {
    "name": "ipython",
    "version": 3
   },
   "file_extension": ".py",
   "mimetype": "text/x-python",
   "name": "python",
   "nbconvert_exporter": "python",
   "pygments_lexer": "ipython3",
   "version": "3.6.7"
  }
 },
 "nbformat": 4,
 "nbformat_minor": 2
}

{
 "cells": [
  {
   "cell_type": "code",
   "execution_count": 34,
   "metadata": {
    "collapsed": true
   },
   "outputs": [],
   "source": [
    "arr = [1,-3,2,1,-1,5]"
   ]
  },
  {
   "cell_type": "code",
   "execution_count": 37,
   "metadata": {},
   "outputs": [],
   "source": [
    "def max_sum(arr):\n",
    "    max_sum = arr[0]\n",
    "    start,end = 0,0\n",
    "    for index in range(1,len(arr)):\n",
    "        new_value = max_sum + arr[index]\n",
    "        if new_value >= arr[index]:\n",
    "            max_sum = new_value\n",
    "            end = index\n",
    "        else:\n",
    "            max_sum = arr[index]\n",
    "            start = index\n",
    "            end = index\n",
    "    print(start,end,arr[start:end+1])"
   ]
  },
  {
   "cell_type": "code",
   "execution_count": 38,
   "metadata": {},
   "outputs": [
    {
     "name": "stdout",
     "output_type": "stream",
     "text": [
      "2 5 [2, 1, -1, 5]\n"
     ]
    }
   ],
   "source": [
    "max_sum(arr)"
   ]
  },
  {
   "cell_type": "code",
   "execution_count": null,
   "metadata": {
    "collapsed": true
   },
   "outputs": [],
   "source": []
  }
 ],
 "metadata": {
  "kernelspec": {
   "display_name": "Python 3",
   "language": "python",
   "name": "python3"
  },
  "language_info": {
   "codemirror_mode": {
    "name": "ipython",
    "version": 3
   },
   "file_extension": ".py",
   "mimetype": "text/x-python",
   "name": "python",
   "nbconvert_exporter": "python",
   "pygments_lexer": "ipython3",
   "version": "3.6.7"
  }
 },
 "nbformat": 4,
 "nbformat_minor": 2
}

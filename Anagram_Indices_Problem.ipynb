{
 "cells": [
  {
   "cell_type": "markdown",
   "metadata": {},
   "source": [
    "# Anagram Indicies problem\n",
    "##### Given a word and a string S, find all starting indices in S which are anagrams of word.\n",
    "\n",
    "#### For example, given that word is “ab”, and S is “abxaba”, return 0, 3, and 4."
   ]
  },
  {
   "cell_type": "code",
   "execution_count": 1,
   "metadata": {},
   "outputs": [
    {
     "data": {
      "text/plain": [
       "[0, 3, 4]"
      ]
     },
     "execution_count": 1,
     "metadata": {},
     "output_type": "execute_result"
    }
   ],
   "source": [
    "#This is a brute force solution to find the indicies since we are checking every subword.\n",
    "\n",
    "def find_anagram_indicies(String,word):\n",
    "    indicies = []\n",
    "    for idx,sub_word in enumerate([S[idx:idx+len(word)] for idx in range(len(S))]):\n",
    "        if len(set.intersection(set(sub_word),set(word))) == len(word):\n",
    "            indicies.append(idx)\n",
    "    return indicies\n",
    "\n",
    "S = \"abxaba\"\n",
    "word = \"ab\"\n",
    "\n",
    "find_anagram_indicies(S,word)"
   ]
  },
  {
   "cell_type": "code",
   "execution_count": 8,
   "metadata": {
    "collapsed": true
   },
   "outputs": [],
   "source": [
    "#Frequency Dict based O(S) solution:\n",
    "\n",
    "class FrequencyDict:\n",
    "    def __init__(self, s):\n",
    "        # Creating a frequency dictionary for the input word.\n",
    "        self.d = {}\n",
    "        for char in s:\n",
    "            self.increment(char)\n",
    "\n",
    "    def _create_if_not_exists(self, char):\n",
    "        # Create a char with zero frequency if it does not exist in the Dictionary.\n",
    "        if char not in self.d:\n",
    "            self.d[char] = 0\n",
    "\n",
    "    def _del_if_zero(self, char):\n",
    "        # Deletes character from the dictionary once its frequency is Zero.\n",
    "        if self.d[char] == 0:\n",
    "            del self.d[char]\n",
    "\n",
    "    def is_empty(self):\n",
    "        # Returns a Boolean Flag indicating whether the dictionary is empty or not.\n",
    "        return not self.d\n",
    "\n",
    "    def decrement(self, char):\n",
    "        # Decrement the Frequency of the Newly Seen character \n",
    "        # Why Decrement?\n",
    "        # Because: If this character is also present in the given word then we dont need\n",
    "        # this character to make a anagram, so we decrement its frequency to move towards\n",
    "        # an empty dictionary.\n",
    "        # But if this character is not in the word, then its frequency becomes -1 and it'll\n",
    "        # only be removed once the start index reaches its position.\n",
    "        self._create_if_not_exists(char)\n",
    "        self.d[char] -= 1\n",
    "        self._del_if_zero(char)\n",
    "\n",
    "    def increment(self, char):\n",
    "        # Increment the frequency of the character just before the start of the subword.\n",
    "        # Why Increment\n",
    "        # Because: If this character is also present in the given word we need it to occur\n",
    "        # again to create an anagram. However, if its not a part of the anagram then it \n",
    "        # must occur again as start index and be decremented.\n",
    "        self._create_if_not_exists(char)\n",
    "        self.d[char] += 1\n",
    "        self._del_if_zero(char)\n",
    "\n",
    "\n",
    "def anagram_indices(word, s):\n",
    "    result = []\n",
    "\n",
    "    freq = FrequencyDict(word)\n",
    "\n",
    "    for char in s[:len(word)]:\n",
    "        freq.decrement(char)\n",
    "\n",
    "    if freq.is_empty():\n",
    "        result.append(0)\n",
    "\n",
    "    for i in range(len(word), len(s)):\n",
    "        start_char, end_char = s[i - len(word)], s[i]\n",
    "        freq.increment(start_char) # Removing the Old Character from the start\n",
    "        freq.decrement(end_char) # New Seen Character\n",
    "        if freq.is_empty():\n",
    "            beginning_index = i - len(word) + 1\n",
    "            result.append(beginning_index)\n",
    "\n",
    "    return result"
   ]
  },
  {
   "cell_type": "code",
   "execution_count": 9,
   "metadata": {},
   "outputs": [
    {
     "data": {
      "text/plain": [
       "[0, 1, 6]"
      ]
     },
     "execution_count": 9,
     "metadata": {},
     "output_type": "execute_result"
    }
   ],
   "source": [
    "S=\"abeaixbae\"\n",
    "word = \"bae\"\n",
    "anagram_indices(word,S)"
   ]
  },
  {
   "cell_type": "code",
   "execution_count": null,
   "metadata": {
    "collapsed": true
   },
   "outputs": [],
   "source": []
  }
 ],
 "metadata": {
  "kernelspec": {
   "display_name": "Python 3",
   "language": "python",
   "name": "python3"
  },
  "language_info": {
   "codemirror_mode": {
    "name": "ipython",
    "version": 3
   },
   "file_extension": ".py",
   "mimetype": "text/x-python",
   "name": "python",
   "nbconvert_exporter": "python",
   "pygments_lexer": "ipython3",
   "version": "3.6.7"
  }
 },
 "nbformat": 4,
 "nbformat_minor": 2
}

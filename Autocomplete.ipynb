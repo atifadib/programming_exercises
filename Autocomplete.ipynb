{
 "cells": [
  {
   "cell_type": "markdown",
   "metadata": {},
   "source": [
    "### Autocomplete\n",
    "#### Implement an autocomplete system. That is, given a query string s and a set of all possible query strings, return all strings in the set that have s as a prefix.\n",
    "\n",
    "#### For example, given the query string de and the set of strings [dog, deer, deal], return [deer, deal].\n",
    "\n"
   ]
  },
  {
   "cell_type": "code",
   "execution_count": 189,
   "metadata": {},
   "outputs": [],
   "source": [
    "class AutoComplete:\n",
    "    def __init__(self):\n",
    "        self.trie = {}\n",
    "        \n",
    "    def add(self,word):\n",
    "        temp = self.trie\n",
    "        for idx,letter in enumerate(word):\n",
    "            if letter in temp.keys():\n",
    "                temp = temp[letter]\n",
    "            else:\n",
    "                if idx == len(word)-1:\n",
    "                    temp.update({letter:{'END':{}}})\n",
    "                else:\n",
    "                    temp.update({letter:{}})\n",
    "                temp = temp[letter]\n",
    "                \n",
    "    def _elements(self, d):\n",
    "        result = []\n",
    "        for c, v in d.items():\n",
    "            if c == 'END':\n",
    "                subresult = ['']\n",
    "            else:\n",
    "                subresult = [c + s for s in self._elements(v)]\n",
    "            result.extend(subresult)\n",
    "        return result\n",
    "    \n",
    "    def elements(self,prefix):\n",
    "        temp = self.trie\n",
    "        for p in prefix:\n",
    "            if p in temp:\n",
    "                temp = temp[p]\n",
    "            else:\n",
    "                return []\n",
    "        return [prefix+_ for _ in self._elements(temp)]"
   ]
  },
  {
   "cell_type": "code",
   "execution_count": 194,
   "metadata": {
    "collapsed": true
   },
   "outputs": [],
   "source": [
    "autocomplete = AutoComplete()"
   ]
  },
  {
   "cell_type": "code",
   "execution_count": 195,
   "metadata": {},
   "outputs": [],
   "source": [
    "autocomplete.add(\"die\")\n",
    "autocomplete.add(\"dog\")\n",
    "autocomplete.add(\"deer\")\n",
    "autocomplete.add(\"door\")\n",
    "autocomplete.add(\"dorm\")"
   ]
  },
  {
   "cell_type": "code",
   "execution_count": 196,
   "metadata": {},
   "outputs": [
    {
     "data": {
      "text/plain": [
       "{'d': {'e': {'e': {'r': {'END': {}}}},\n",
       "  'i': {'e': {'END': {}}},\n",
       "  'o': {'g': {'END': {}}, 'o': {'r': {'END': {}}}, 'r': {'m': {'END': {}}}}}}"
      ]
     },
     "execution_count": 196,
     "metadata": {},
     "output_type": "execute_result"
    }
   ],
   "source": [
    "autocomplete.trie"
   ]
  },
  {
   "cell_type": "code",
   "execution_count": 197,
   "metadata": {},
   "outputs": [
    {
     "data": {
      "text/plain": [
       "['dog', 'door', 'dorm']"
      ]
     },
     "execution_count": 197,
     "metadata": {},
     "output_type": "execute_result"
    }
   ],
   "source": [
    "autocomplete.elements('do')"
   ]
  },
  {
   "cell_type": "code",
   "execution_count": null,
   "metadata": {
    "collapsed": true
   },
   "outputs": [],
   "source": []
  },
  {
   "cell_type": "code",
   "execution_count": null,
   "metadata": {
    "collapsed": true
   },
   "outputs": [],
   "source": []
  }
 ],
 "metadata": {
  "kernelspec": {
   "display_name": "Python 3",
   "language": "python",
   "name": "python3"
  },
  "language_info": {
   "codemirror_mode": {
    "name": "ipython",
    "version": 3
   },
   "file_extension": ".py",
   "mimetype": "text/x-python",
   "name": "python",
   "nbconvert_exporter": "python",
   "pygments_lexer": "ipython3",
   "version": "3.6.7"
  }
 },
 "nbformat": 4,
 "nbformat_minor": 2
}

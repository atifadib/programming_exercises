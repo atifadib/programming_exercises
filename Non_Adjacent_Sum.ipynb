{
 "cells": [
  {
   "cell_type": "markdown",
   "metadata": {},
   "source": [
    "### Non Adjacent Sum\n",
    "#### Given a list of integers, write a function that returns the largest sum of non-adjacent numbers. Numbers can be 0 or negative.\n",
    "\n",
    "#### For example, [2, 4, 6, 2, 5] should return 13, since we pick 2, 6, and 5. [5, 1, 1, 5] should return 10, since we pick 5 and 5.\n",
    "\n",
    "#### Follow-up: Can you do this in O(N) time and constant space?\n",
    "\n"
   ]
  },
  {
   "cell_type": "code",
   "execution_count": 16,
   "metadata": {
    "collapsed": true
   },
   "outputs": [],
   "source": [
    "def non_adjacent_sum(arr):\n",
    "    if not arr:\n",
    "        return 0\n",
    "    return max(non_adjacent_sum(arr[1:]),arr[0]+non_adjacent_sum(arr[2:]))"
   ]
  },
  {
   "cell_type": "code",
   "execution_count": 22,
   "metadata": {},
   "outputs": [
    {
     "data": {
      "text/plain": [
       "9"
      ]
     },
     "execution_count": 22,
     "metadata": {},
     "output_type": "execute_result"
    }
   ],
   "source": [
    "non_adjacent_sum([2, 4, -6, 2, 5])"
   ]
  },
  {
   "cell_type": "code",
   "execution_count": 25,
   "metadata": {
    "collapsed": true
   },
   "outputs": [],
   "source": [
    "# Constant Space and O(N) time\n",
    "def largest_non_adjacent_sum(arr):\n",
    "    if not arr:\n",
    "        return 0\n",
    "    \n",
    "    max1 = max(0,arr[0])\n",
    "    max2 = max(max1,arr[1])\n",
    "    \n",
    "    for num in arr[2:]:\n",
    "        new_max = max(num+max1,max2)\n",
    "        if new_max > max2:\n",
    "            max2,max1 = new_max,max(max2,max1)\n",
    "        elif new_max > max1:\n",
    "            max1,max2 = new_max,max(max1,max2)\n",
    "    return max(max1,max2)"
   ]
  },
  {
   "cell_type": "code",
   "execution_count": 26,
   "metadata": {},
   "outputs": [
    {
     "data": {
      "text/plain": [
       "9"
      ]
     },
     "execution_count": 26,
     "metadata": {},
     "output_type": "execute_result"
    }
   ],
   "source": [
    "largest_non_adjacent_sum([2, 4, -6, 2, 5])"
   ]
  },
  {
   "cell_type": "code",
   "execution_count": null,
   "metadata": {
    "collapsed": true
   },
   "outputs": [],
   "source": []
  }
 ],
 "metadata": {
  "kernelspec": {
   "display_name": "Python 3",
   "language": "python",
   "name": "python3"
  },
  "language_info": {
   "codemirror_mode": {
    "name": "ipython",
    "version": 3
   },
   "file_extension": ".py",
   "mimetype": "text/x-python",
   "name": "python",
   "nbconvert_exporter": "python",
   "pygments_lexer": "ipython3",
   "version": "3.6.7"
  }
 },
 "nbformat": 4,
 "nbformat_minor": 2
}

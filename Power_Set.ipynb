{
 "cells": [
  {
   "cell_type": "markdown",
   "metadata": {},
   "source": [
    "#### The power set of a set is the set of all its subsets. Write a function that, given a set, generates its power set.\n",
    "\n",
    "#### For example, given the set {1, 2, 3}, it should return {{}, {1}, {2}, {3}, {1, 2}, {1, 3}, {2, 3}, {1, 2, 3}}.\n",
    "\n",
    "#### You may also use a list or array to represent a set.\n",
    "\n",
    "#### We will be sending the solution tomorrow, along with tomorrow's question. As always, feel free to shoot us an email if there's anything we can help with.\n",
    "\n"
   ]
  },
  {
   "cell_type": "code",
   "execution_count": 124,
   "metadata": {
    "collapsed": true
   },
   "outputs": [],
   "source": [
    "#Space: O(N^2)\n",
    "#Time: O(2^N)\n",
    "\n",
    "def build(input_set,curr_item):\n",
    "    if not input_set:\n",
    "        return curr_item\n",
    "    #done take input[0]\n",
    "    result = []\n",
    "    prev_item = build(input_set[1:],curr_item)\n",
    "    result.extend(prev_item)\n",
    "    new_item = curr_item[0] + [input_set[0]]\n",
    "    with_set = build(input_set[1:],[new_item])\n",
    "    result.extend(with_set)\n",
    "    return result\n",
    "    \n",
    "    \n",
    "def get_power_set(input_set):\n",
    "    input_set = list(input_set)\n",
    "    return build(input_set,[[]])"
   ]
  },
  {
   "cell_type": "code",
   "execution_count": 125,
   "metadata": {},
   "outputs": [
    {
     "name": "stdout",
     "output_type": "stream",
     "text": [
      "4.35 µs ± 372 ns per loop (mean ± std. dev. of 7 runs, 100000 loops each)\n"
     ]
    }
   ],
   "source": [
    "%timeit get_power_set({1,2,3})"
   ]
  },
  {
   "cell_type": "code",
   "execution_count": 126,
   "metadata": {
    "collapsed": true
   },
   "outputs": [],
   "source": [
    "#Space: O(N^2)\n",
    "#Time: N*(2^N)\n",
    "\n",
    "def bit_wise_power_set(input_set):\n",
    "    input_set = list(input_set)\n",
    "    power_set = []\n",
    "    for _ in range(2**len(input_set)):\n",
    "        new_set = []\n",
    "        for idx,bit in enumerate(bin(_)[2:]):\n",
    "            if bit=='1':\n",
    "                new_set.append(input_set[idx])\n",
    "        power_set.append(new_set)\n",
    "    return power_set"
   ]
  },
  {
   "cell_type": "code",
   "execution_count": 127,
   "metadata": {},
   "outputs": [
    {
     "name": "stdout",
     "output_type": "stream",
     "text": [
      "5.44 µs ± 36.9 ns per loop (mean ± std. dev. of 7 runs, 100000 loops each)\n"
     ]
    }
   ],
   "source": [
    "%timeit bit_wise_power_set({1,2,3})"
   ]
  },
  {
   "cell_type": "code",
   "execution_count": 103,
   "metadata": {},
   "outputs": [
    {
     "data": {
      "text/plain": [
       "[[], [3], [2], [2, 3], [1], [1, 3], [1, 2], [1, 2, 3]]"
      ]
     },
     "execution_count": 103,
     "metadata": {},
     "output_type": "execute_result"
    }
   ],
   "source": [
    "get_power_set({1,2,3})"
   ]
  },
  {
   "cell_type": "code",
   "execution_count": 121,
   "metadata": {},
   "outputs": [
    {
     "data": {
      "text/plain": [
       "[[], [1], [1], [1, 2], [1], [1, 3], [1, 2], [1, 2, 3]]"
      ]
     },
     "execution_count": 121,
     "metadata": {},
     "output_type": "execute_result"
    }
   ],
   "source": [
    "bit_wise_power_set({1,2,3})"
   ]
  },
  {
   "cell_type": "code",
   "execution_count": null,
   "metadata": {
    "collapsed": true
   },
   "outputs": [],
   "source": []
  }
 ],
 "metadata": {
  "kernelspec": {
   "display_name": "Python 3",
   "language": "python",
   "name": "python3"
  },
  "language_info": {
   "codemirror_mode": {
    "name": "ipython",
    "version": 3
   },
   "file_extension": ".py",
   "mimetype": "text/x-python",
   "name": "python",
   "nbconvert_exporter": "python",
   "pygments_lexer": "ipython3",
   "version": "3.6.7"
  }
 },
 "nbformat": 4,
 "nbformat_minor": 2
}

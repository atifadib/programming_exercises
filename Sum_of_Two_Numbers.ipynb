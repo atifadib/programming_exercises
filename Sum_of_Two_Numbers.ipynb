{
 "cells": [
  {
   "cell_type": "markdown",
   "metadata": {},
   "source": [
    "## Sum of Two Numbers in a List\n",
    "#### Given a list of numbers and a number k, return whether any two numbers from the list add up to k.\n",
    "\n",
    "#### For example, given [10, 15, 3, 7] and k of 17, return true since 10 + 7 is 17."
   ]
  },
  {
   "cell_type": "code",
   "execution_count": 20,
   "metadata": {},
   "outputs": [
    {
     "name": "stdout",
     "output_type": "stream",
     "text": [
      "[(10, 7)]\n"
     ]
    }
   ],
   "source": [
    "def get_pairs(values,k):\n",
    "    pairs = []\n",
    "    required_set = set()\n",
    "    for value in values:\n",
    "        required_value = k - value\n",
    "        if required_value in required_set:\n",
    "            pairs.append((value,required_value))\n",
    "            required_set.remove(required_value)\n",
    "        else:\n",
    "            required_set.add(value)\n",
    "    return [p[::-1] for p in pairs]\n",
    "\n",
    "values = [10,15,3,7]\n",
    "output = get_pairs(values,17)\n",
    "print(output)"
   ]
  },
  {
   "cell_type": "code",
   "execution_count": 21,
   "metadata": {
    "collapsed": true
   },
   "outputs": [],
   "source": [
    "generated_test_cases = [([9,2,2],4,[(2,2)]),([1,1,2,3,1],5,[(2,3)])]"
   ]
  },
  {
   "cell_type": "code",
   "execution_count": 23,
   "metadata": {},
   "outputs": [],
   "source": [
    "for case in generated_test_cases:\n",
    "    values,k = case[0],case[1]\n",
    "    out = get_pairs(values,k)\n",
    "    assert out == case[2]"
   ]
  },
  {
   "cell_type": "code",
   "execution_count": null,
   "metadata": {
    "collapsed": true
   },
   "outputs": [],
   "source": []
  }
 ],
 "metadata": {
  "kernelspec": {
   "display_name": "Python 3",
   "language": "python",
   "name": "python3"
  },
  "language_info": {
   "codemirror_mode": {
    "name": "ipython",
    "version": 3
   },
   "file_extension": ".py",
   "mimetype": "text/x-python",
   "name": "python",
   "nbconvert_exporter": "python",
   "pygments_lexer": "ipython3",
   "version": "3.6.7"
  }
 },
 "nbformat": 4,
 "nbformat_minor": 2
}

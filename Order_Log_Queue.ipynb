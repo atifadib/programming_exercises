{
 "cells": [
  {
   "cell_type": "markdown",
   "metadata": {},
   "source": [
    "### Order Log\n",
    "#### You run an e-commerce website and want to record the last N order ids in a log. Implement a data structure to accomplish this, with the following API:\n",
    "\n",
    "#### record(order_id): adds the order_id to the log\n",
    "#### get_last(i): gets the ith last element from the log. i is guaranteed to be smaller than or equal to N.\n",
    "#### You should be as efficient with time and space as possible.\n",
    "\n"
   ]
  },
  {
   "cell_type": "code",
   "execution_count": 26,
   "metadata": {
    "collapsed": true
   },
   "outputs": [],
   "source": [
    "class OrderLog:\n",
    "    def __init__(self,size=10):\n",
    "        self.max_size = size\n",
    "        self.curr_size = 0\n",
    "        self.orders = []\n",
    "    \n",
    "    def record(self,order_id):\n",
    "        if self.max_size > self.curr_size:\n",
    "            self.orders.append(order_id)\n",
    "            self.curr_size+=1\n",
    "        else:\n",
    "            self.orders.pop(0)\n",
    "            self.orders.append(order_id)\n",
    "            \n",
    "    def get_last(self,index):\n",
    "        if index < self.curr_size:\n",
    "            return self.orders[index]\n",
    "        else:\n",
    "            return None"
   ]
  },
  {
   "cell_type": "code",
   "execution_count": 32,
   "metadata": {
    "collapsed": true
   },
   "outputs": [],
   "source": [
    "log = OrderLog()"
   ]
  },
  {
   "cell_type": "code",
   "execution_count": 33,
   "metadata": {},
   "outputs": [
    {
     "name": "stdout",
     "output_type": "stream",
     "text": [
      "[0] None 7 0\n",
      "[0, 1] None 3 1\n",
      "[0, 1, 2] None 6 2\n",
      "[0, 1, 2, 3] 1 1 3\n",
      "[0, 1, 2, 3, 4] None 7 4\n",
      "[0, 1, 2, 3, 4, 5] 5 5 5\n",
      "[0, 1, 2, 3, 4, 5, 6] 4 4 6\n",
      "[0, 1, 2, 3, 4, 5, 6, 7] 0 0 7\n",
      "[0, 1, 2, 3, 4, 5, 6, 7, 8] 1 1 8\n",
      "[0, 1, 2, 3, 4, 5, 6, 7, 8, 9] 8 8 9\n",
      "[1, 2, 3, 4, 5, 6, 7, 8, 9, 10] 1 0 10\n",
      "[2, 3, 4, 5, 6, 7, 8, 9, 10, 11] 10 8 11\n",
      "[3, 4, 5, 6, 7, 8, 9, 10, 11, 12] 4 1 12\n",
      "[4, 5, 6, 7, 8, 9, 10, 11, 12, 13] 10 6 13\n",
      "[5, 6, 7, 8, 9, 10, 11, 12, 13, 14] 9 4 14\n",
      "[6, 7, 8, 9, 10, 11, 12, 13, 14, 15] 11 5 15\n",
      "[7, 8, 9, 10, 11, 12, 13, 14, 15, 16] 15 8 16\n",
      "[8, 9, 10, 11, 12, 13, 14, 15, 16, 17] 12 4 17\n",
      "[9, 10, 11, 12, 13, 14, 15, 16, 17, 18] 14 5 18\n",
      "[10, 11, 12, 13, 14, 15, 16, 17, 18, 19] 10 0 19\n"
     ]
    }
   ],
   "source": [
    "import numpy as np\n",
    "\n",
    "for _ in range(0,20):\n",
    "    log.record(_)\n",
    "    i = np.random.randint(0,10)\n",
    "    out = log.get_last(i)\n",
    "    print(log.orders,out,i,_)"
   ]
  },
  {
   "cell_type": "code",
   "execution_count": 34,
   "metadata": {},
   "outputs": [
    {
     "data": {
      "text/plain": [
       "10"
      ]
     },
     "execution_count": 34,
     "metadata": {},
     "output_type": "execute_result"
    }
   ],
   "source": [
    "len(log.orders)"
   ]
  },
  {
   "cell_type": "code",
   "execution_count": null,
   "metadata": {
    "collapsed": true
   },
   "outputs": [],
   "source": []
  }
 ],
 "metadata": {
  "kernelspec": {
   "display_name": "Python 3",
   "language": "python",
   "name": "python3"
  },
  "language_info": {
   "codemirror_mode": {
    "name": "ipython",
    "version": 3
   },
   "file_extension": ".py",
   "mimetype": "text/x-python",
   "name": "python",
   "nbconvert_exporter": "python",
   "pygments_lexer": "ipython3",
   "version": "3.6.7"
  }
 },
 "nbformat": 4,
 "nbformat_minor": 2
}

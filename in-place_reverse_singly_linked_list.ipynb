{
 "cells": [
  {
   "cell_type": "code",
   "execution_count": 70,
   "metadata": {
    "collapsed": true
   },
   "outputs": [],
   "source": [
    "class LinkedList:\n",
    "    def __init__(self,val):\n",
    "        self.val = val\n",
    "        self.next = None\n",
    "        \n",
    "    def __str__(self):\n",
    "        str_obj = []\n",
    "        while self is not None:\n",
    "            str_obj.append(self.val)\n",
    "            self = self.next\n",
    "        return \",\".join([str(_) for _ in str_obj])\n",
    "    \n",
    "    def reverse(self):\n",
    "        if self is None:\n",
    "            return None\n",
    "        last = self\n",
    "        curr = self.next\n",
    "        last.next = None\n",
    "        while curr is not None:\n",
    "            new_curr = curr.next\n",
    "            curr.next = last\n",
    "            last = curr\n",
    "            curr = new_curr\n",
    "        return last"
   ]
  },
  {
   "cell_type": "code",
   "execution_count": 74,
   "metadata": {
    "collapsed": true
   },
   "outputs": [],
   "source": [
    "llist = LinkedList(5)\n",
    "llist.next = LinkedList(6)\n",
    "llist.next.next = LinkedList(7)\n",
    "llist.next.next.next = LinkedList(8)"
   ]
  },
  {
   "cell_type": "code",
   "execution_count": 75,
   "metadata": {},
   "outputs": [
    {
     "name": "stdout",
     "output_type": "stream",
     "text": [
      "5,6,7,8\n"
     ]
    }
   ],
   "source": [
    "print(llist)"
   ]
  },
  {
   "cell_type": "code",
   "execution_count": 76,
   "metadata": {},
   "outputs": [
    {
     "name": "stdout",
     "output_type": "stream",
     "text": [
      "8,7,6,5\n"
     ]
    }
   ],
   "source": [
    "print(llist.reverse())"
   ]
  },
  {
   "cell_type": "code",
   "execution_count": null,
   "metadata": {
    "collapsed": true
   },
   "outputs": [],
   "source": []
  }
 ],
 "metadata": {
  "kernelspec": {
   "display_name": "Python 3",
   "language": "python",
   "name": "python3"
  },
  "language_info": {
   "codemirror_mode": {
    "name": "ipython",
    "version": 3
   },
   "file_extension": ".py",
   "mimetype": "text/x-python",
   "name": "python",
   "nbconvert_exporter": "python",
   "pygments_lexer": "ipython3",
   "version": "3.6.7"
  }
 },
 "nbformat": 4,
 "nbformat_minor": 2
}

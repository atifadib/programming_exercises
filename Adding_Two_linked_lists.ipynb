{
 "cells": [
  {
   "cell_type": "markdown",
   "metadata": {
    "collapsed": true
   },
   "source": [
    "#### You are given two non-empty linked lists representing two non-negative integers. The digits are stored in reverse order and each of their nodes contain a single digit. Add the two numbers and return it as a linked list.\n",
    "\n",
    "#### You may assume the two numbers do not contain any leading zero, except the number 0 itself.\n",
    "\n",
    "#### Example:\n",
    "\n",
    "#### Input: (2 -> 4 -> 3) + (5 -> 6 -> 4)\n",
    "#### Output: 7 -> 0 -> 8\n",
    "#### Explanation: 342 + 465 = 807."
   ]
  },
  {
   "cell_type": "code",
   "execution_count": 2,
   "metadata": {},
   "outputs": [],
   "source": [
    "#Definition for singly-linked list.\n",
    "class ListNode:\n",
    "    def __init__(self, x):\n",
    "        self.val = x\n",
    "        self.next = None\n",
    "\n",
    "class Solution:\n",
    "    def addTwoNumbers(self, l1: ListNode, l2: ListNode) -> ListNode:\n",
    "        prev = 0\n",
    "        value = l1.val + l2.val + prev\n",
    "        curr_value = value % 10\n",
    "        prev = int(value/10)\n",
    "        node = ListNode(curr_value)\n",
    "        ret = node\n",
    "        l1,l2 = l1.next,l2.next\n",
    "        while l1 is not None or l2 is not None:\n",
    "            try:\n",
    "                v1 = l1.val\n",
    "            except AttributeError:\n",
    "                v1 = 0\n",
    "            try:\n",
    "                v2 = l2.val\n",
    "            except AttributeError:\n",
    "                v2 = 0\n",
    "            value = v1 + v2 + prev\n",
    "            curr_value = value % 10\n",
    "            prev = int(value/10)\n",
    "            new_node = ListNode(curr_value)\n",
    "            node.next = new_node\n",
    "            node = new_node\n",
    "            try:\n",
    "                l1 = l1.next\n",
    "            except AttributeError:\n",
    "                l1 = None\n",
    "            try:\n",
    "                l2 = l2.next\n",
    "            except AttributeError:\n",
    "                l2 = None\n",
    "        while prev!=0:\n",
    "            add_value = prev % 10 \n",
    "            prev = int(prev/10)\n",
    "            new_node = ListNode(add_value)\n",
    "            node.next = new_node\n",
    "            node = new_node\n",
    "        return ret"
   ]
  },
  {
   "cell_type": "code",
   "execution_count": 3,
   "metadata": {
    "collapsed": true
   },
   "outputs": [],
   "source": [
    "a = ListNode(5)\n",
    "b = ListNode(6)"
   ]
  },
  {
   "cell_type": "code",
   "execution_count": 4,
   "metadata": {
    "collapsed": true
   },
   "outputs": [],
   "source": [
    "sol = Solution()"
   ]
  },
  {
   "cell_type": "code",
   "execution_count": 5,
   "metadata": {
    "collapsed": true
   },
   "outputs": [],
   "source": [
    "out = sol.addTwoNumbers(a,b)"
   ]
  },
  {
   "cell_type": "code",
   "execution_count": 10,
   "metadata": {},
   "outputs": [
    {
     "name": "stdout",
     "output_type": "stream",
     "text": [
      "[1, 1]\n"
     ]
    }
   ],
   "source": [
    "l = []\n",
    "while out is not None:\n",
    "    l.append(out.val)\n",
    "    out = out.next\n",
    "print(l)"
   ]
  },
  {
   "cell_type": "code",
   "execution_count": null,
   "metadata": {
    "collapsed": true
   },
   "outputs": [],
   "source": []
  }
 ],
 "metadata": {
  "kernelspec": {
   "display_name": "Python 3",
   "language": "python",
   "name": "python3"
  },
  "language_info": {
   "codemirror_mode": {
    "name": "ipython",
    "version": 3
   },
   "file_extension": ".py",
   "mimetype": "text/x-python",
   "name": "python",
   "nbconvert_exporter": "python",
   "pygments_lexer": "ipython3",
   "version": "3.6.7"
  }
 },
 "nbformat": 4,
 "nbformat_minor": 2
}

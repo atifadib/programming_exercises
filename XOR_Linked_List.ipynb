{
 "cells": [
  {
   "cell_type": "markdown",
   "metadata": {},
   "source": [
    "### XOR Linked List in Python\n",
    "#### An XOR linked list is a more memory efficient doubly linked list. Instead of each node holding next and prev fields, it holds a field named both, which is an XOR of the next node and the previous node. Implement an XOR linked list; it has an add(element) which adds the element to the end, and a get(index) which returns the node at index.\n",
    "\n",
    "##### If using a language that has no pointers (such as Python), you can assume you have access to get_pointer and dereference_pointer functions that converts between nodes and memory addresses."
   ]
  },
  {
   "cell_type": "code",
   "execution_count": 2,
   "metadata": {},
   "outputs": [],
   "source": [
    "import ctypes\n",
    "\n",
    "\n",
    "# This is hacky. It's a data structure for C, not python.\n",
    "class Node(object):\n",
    "    def __init__(self, val):\n",
    "        self.val = val\n",
    "        self.both = 0\n",
    "\n",
    "\n",
    "class XorLinkedList(object):\n",
    "    def __init__(self):\n",
    "        self.head = self.tail = None\n",
    "        self.__nodes = [] # This is to prevent garbage collection\n",
    "\n",
    "    def add(self, node):\n",
    "        if self.head is None:\n",
    "            self.head = self.tail = node\n",
    "        else:\n",
    "            self.tail.both = id(node) ^ self.tail.both\n",
    "            node.both = id(self.tail)\n",
    "            self.tail = node\n",
    "\n",
    "        # Without this line, Python thinks there is no way to reach nodes between\n",
    "        # head and tail.\n",
    "        self.__nodes.append(node)\n",
    "\n",
    "\n",
    "    def get(self, index):\n",
    "        prev_id = 0\n",
    "        node = self.head\n",
    "        for i in range(index):\n",
    "            next_id = prev_id ^ node.both\n",
    "\n",
    "            if next_id:\n",
    "                prev_id = id(node)\n",
    "                node = _get_obj(next_id)\n",
    "            else:\n",
    "                raise IndexError('Linked list index out of range')\n",
    "        return node\n",
    "\n",
    "\n",
    "def _get_obj(id):\n",
    "    return ctypes.cast(id, ctypes.py_object).value"
   ]
  },
  {
   "cell_type": "code",
   "execution_count": null,
   "metadata": {
    "collapsed": true
   },
   "outputs": [],
   "source": []
  }
 ],
 "metadata": {
  "kernelspec": {
   "display_name": "Python 3",
   "language": "python",
   "name": "python3"
  },
  "language_info": {
   "codemirror_mode": {
    "name": "ipython",
    "version": 3
   },
   "file_extension": ".py",
   "mimetype": "text/x-python",
   "name": "python",
   "nbconvert_exporter": "python",
   "pygments_lexer": "ipython3",
   "version": "3.6.7"
  }
 },
 "nbformat": 4,
 "nbformat_minor": 2
}

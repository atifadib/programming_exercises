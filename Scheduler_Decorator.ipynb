{
 "cells": [
  {
   "cell_type": "markdown",
   "metadata": {},
   "source": [
    "### Scheduler Decorator\n",
    "#### Implement a job scheduler which takes in a function f and an integer n, and calls f after n milliseconds.\n"
   ]
  },
  {
   "cell_type": "code",
   "execution_count": 10,
   "metadata": {},
   "outputs": [],
   "source": [
    "import time\n",
    "\n",
    "def scheduler(delay = 1):\n",
    "    def decor(func):\n",
    "        def wrapper(*args,**kwargs):\n",
    "            print(\"Sleeping for \",delay)\n",
    "            time.sleep(delay)\n",
    "            out = func(*args,*kwargs)\n",
    "            return out\n",
    "        return wrapper\n",
    "    return decor"
   ]
  },
  {
   "cell_type": "code",
   "execution_count": 11,
   "metadata": {},
   "outputs": [],
   "source": [
    "@scheduler(delay=1)\n",
    "def f(i):\n",
    "    return sum(range(i))"
   ]
  },
  {
   "cell_type": "code",
   "execution_count": 12,
   "metadata": {},
   "outputs": [
    {
     "name": "stdout",
     "output_type": "stream",
     "text": [
      "Sleeping for  1\n"
     ]
    }
   ],
   "source": [
    "out = f(10)"
   ]
  },
  {
   "cell_type": "code",
   "execution_count": null,
   "metadata": {
    "collapsed": true
   },
   "outputs": [],
   "source": []
  }
 ],
 "metadata": {
  "kernelspec": {
   "display_name": "Python 3",
   "language": "python",
   "name": "python3"
  },
  "language_info": {
   "codemirror_mode": {
    "name": "ipython",
    "version": 3
   },
   "file_extension": ".py",
   "mimetype": "text/x-python",
   "name": "python",
   "nbconvert_exporter": "python",
   "pygments_lexer": "ipython3",
   "version": "3.6.7"
  }
 },
 "nbformat": 4,
 "nbformat_minor": 2
}
